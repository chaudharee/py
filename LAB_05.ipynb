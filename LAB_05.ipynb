{
 "cells": [
  {
   "cell_type": "markdown",
   "id": "bca4ce42",
   "metadata": {},
   "source": [
    "# __LAB 05__"
   ]
  },
  {
   "cell_type": "markdown",
   "id": "586d90f7",
   "metadata": {},
   "source": [
    "1. Create a class __Book__ with attributes title, author, and price. Write a constructor to initialize these values and create and object with sample data.\n",
    "    - Add a method __display_info()__ to the __Book__ class that prints the book's title, author, and price. Calss this method using a __Book__ object.\n",
    "    - Add a method __update_price(new_price)__ to the __Book__ class that updates the book's price. Demonstrate how to use it with an object."
   ]
  },
  {
   "cell_type": "code",
   "execution_count": 1,
   "id": "47002847",
   "metadata": {},
   "outputs": [
    {
     "name": "stdout",
     "output_type": "stream",
     "text": [
      "Title: The Alchemist\n",
      "Author: Paulo Coelho\n",
      "Price: Rs.500\n",
      "Price updated to Rs.600\n",
      "Title: The Alchemist\n",
      "Author: Paulo Coelho\n",
      "Price: Rs.600\n"
     ]
    }
   ],
   "source": [
    "class Book:\n",
    "    def __init__(self, title, author, price):\n",
    "        self.title = title\n",
    "        self.author = author\n",
    "        self.price = price\n",
    "\n",
    "    def display_info(self):\n",
    "        print(f\"Title: {self.title}\")\n",
    "        print(f\"Author: {self.author}\")\n",
    "        print(f\"Price: Rs.{self.price}\")\n",
    "\n",
    "    def update_price(self, new_price):\n",
    "        self.price = new_price\n",
    "        print(f\"Price updated to Rs.{self.price}\")\n",
    "\n",
    "\n",
    "#object with sample data\n",
    "book1 = Book(\"The Alchemist\", \"Paulo Coelho\", 500)\n",
    "\n",
    "book1.display_info()   # show details\n",
    "book1.update_price(600)  # update price\n",
    "book1.display_info()   # show again after update"
   ]
  },
  {
   "cell_type": "markdown",
   "id": "4ab24506",
   "metadata": {},
   "source": [
    "2. Create a class __Student__ with attributes name and marks. Create three objects of the class and display their details using a method __show_details()__."
   ]
  },
  {
   "cell_type": "code",
   "execution_count": 2,
   "id": "0d3374dd",
   "metadata": {},
   "outputs": [
    {
     "name": "stdout",
     "output_type": "stream",
     "text": [
      "Name: Manish, Marks: 85\n",
      "Name: Abhinaya, Marks: 92\n",
      "Name: Ravi, Marks: 76\n"
     ]
    }
   ],
   "source": [
    "class Student:\n",
    "    def __init__(self, name, marks):\n",
    "        self.name = name\n",
    "        self.marks = marks\n",
    "\n",
    "    def show_details(self):\n",
    "        print(f\"Name: {self.name}, Marks: {self.marks}\")\n",
    "\n",
    "\n",
    "# 3 objects\n",
    "s1 = Student(\"Manish\", 85)\n",
    "s2 = Student(\"Abhinaya\", 92)\n",
    "s3 = Student(\"Ravi\", 76)\n",
    "\n",
    "# Display details\n",
    "s1.show_details()\n",
    "s2.show_details()\n",
    "s3.show_details()\n"
   ]
  },
  {
   "cell_type": "markdown",
   "id": "0aad981a",
   "metadata": {},
   "source": [
    "3. Create a class __BankAccount__ with attributes account_holder, account_number, and balance.\n",
    "    - Add methods __deposit(amount)__ and __withdraw(amount)__ that update the balance.\n",
    "    - Add a method __show_balance()__ that prints the current balance.\n",
    "    - Create an object and perform a deposit, a withdrawal, and show the balance."
   ]
  },
  {
   "cell_type": "code",
   "execution_count": 3,
   "id": "128cd64f",
   "metadata": {},
   "outputs": [
    {
     "name": "stdout",
     "output_type": "stream",
     "text": [
      "Account Holder: Manish Chaudhary\n",
      "Account Number: 123456789\n",
      "Current Balance: Rs.1000\n",
      "Deposited Rs.500. New balance = Rs.1500\n",
      "Withdrawn Rs.300. New balance = Rs.1200\n",
      "Insufficient balance!\n",
      "Account Holder: Manish Chaudhary\n",
      "Account Number: 123456789\n",
      "Current Balance: Rs.1200\n"
     ]
    }
   ],
   "source": [
    "class BankAccount:\n",
    "    def __init__(self, account_holder, account_number, balance=0):\n",
    "        self.account_holder = account_holder\n",
    "        self.account_number = account_number\n",
    "        self.balance = balance\n",
    "\n",
    "    def deposit(self, amount):\n",
    "        self.balance += amount\n",
    "        print(f\"Deposited Rs.{amount}. New balance = Rs.{self.balance}\")\n",
    "\n",
    "    def withdraw(self, amount):\n",
    "        if amount > self.balance:\n",
    "            print(\"Insufficient balance!\")\n",
    "        else:\n",
    "            self.balance -= amount\n",
    "            print(f\"Withdrawn Rs.{amount}. New balance = Rs.{self.balance}\")\n",
    "\n",
    "    def show_balance(self):\n",
    "        print(f\"Account Holder: {self.account_holder}\")\n",
    "        print(f\"Account Number: {self.account_number}\")\n",
    "        print(f\"Current Balance: Rs.{self.balance}\")\n",
    "\n",
    "\n",
    "#object\n",
    "acc1 = BankAccount(\"Manish Chaudhary\", \"123456789\", 1000)\n",
    "\n",
    "acc1.show_balance()\n",
    "acc1.deposit(500)\n",
    "acc1.withdraw(300)\n",
    "acc1.withdraw(1500)  # trying more than balance\n",
    "acc1.show_balance()\n"
   ]
  }
 ],
 "metadata": {
  "kernelspec": {
   "display_name": "Myvenv",
   "language": "python",
   "name": "python3"
  },
  "language_info": {
   "codemirror_mode": {
    "name": "ipython",
    "version": 3
   },
   "file_extension": ".py",
   "mimetype": "text/x-python",
   "name": "python",
   "nbconvert_exporter": "python",
   "pygments_lexer": "ipython3",
   "version": "3.12.3"
  }
 },
 "nbformat": 4,
 "nbformat_minor": 5
}

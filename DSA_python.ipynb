{
 "cells": [
  {
   "cell_type": "markdown",
   "id": "334103b3",
   "metadata": {},
   "source": [
    "# Data Structures in Python"
   ]
  },
  {
   "cell_type": "markdown",
   "id": "a85d4096",
   "metadata": {},
   "source": [
    "1. String\n",
    "2. List\n",
    "3. Tuple\n",
    "4. Dictionary\n",
    "5. Set"
   ]
  },
  {
   "cell_type": "markdown",
   "id": "18ac36ec",
   "metadata": {},
   "source": [
    "# 1. Strings"
   ]
  },
  {
   "cell_type": "markdown",
   "id": "971b035c",
   "metadata": {},
   "source": [
    "Strings in python are surrounded by either single quotation marks, or double quotation marks. '*Pulchowk*' is the same as \"*Pulchowk*\"."
   ]
  },
  {
   "cell_type": "markdown",
   "id": "288c2c6f",
   "metadata": {},
   "source": [
    "We can assign a string value to a variable:"
   ]
  },
  {
   "cell_type": "code",
   "execution_count": 31,
   "id": "e2975011",
   "metadata": {},
   "outputs": [],
   "source": [
    "name = \"Abhinaya\"\n",
    "college = \"PULCHOWK\""
   ]
  },
  {
   "cell_type": "markdown",
   "id": "9be1c3a1",
   "metadata": {},
   "source": [
    "We can concatenate two strings using the `+` operator:"
   ]
  },
  {
   "cell_type": "code",
   "execution_count": 32,
   "id": "3d6d03ad",
   "metadata": {},
   "outputs": [
    {
     "name": "stdout",
     "output_type": "stream",
     "text": [
      "Python is awesome.\n"
     ]
    }
   ],
   "source": [
    "phrase = \"Python\" + \" is awesome.\"\n",
    "print(phrase)"
   ]
  },
  {
   "cell_type": "markdown",
   "id": "07cfeb85",
   "metadata": {},
   "source": [
    "You can append to a string using `+=`:"
   ]
  },
  {
   "cell_type": "code",
   "execution_count": 33,
   "id": "996d00ff",
   "metadata": {},
   "outputs": [
    {
     "name": "stdout",
     "output_type": "stream",
     "text": [
      "Python is a wesome\n"
     ]
    }
   ],
   "source": [
    "name = \"Python\"\n",
    "name += \" is a wesome\"\n",
    "print(name)"
   ]
  },
  {
   "cell_type": "markdown",
   "id": "603148fc",
   "metadata": {},
   "source": [
    "#### Type Conversion"
   ]
  },
  {
   "cell_type": "markdown",
   "id": "63f96018",
   "metadata": {},
   "source": [
    "We can convert a number to a string using the `str()` class constructor:"
   ]
  },
  {
   "cell_type": "code",
   "execution_count": 34,
   "id": "443ab9fe",
   "metadata": {},
   "outputs": [
    {
     "name": "stdout",
     "output_type": "stream",
     "text": [
      "Python is 1000 times better than other languages.\n"
     ]
    }
   ],
   "source": [
    "print(\"Python is \" + str(1000) + \" times better than other languages.\")"
   ]
  },
  {
   "cell_type": "markdown",
   "id": "36739fb1",
   "metadata": {},
   "source": [
    "#### Multi-line string"
   ]
  },
  {
   "cell_type": "markdown",
   "id": "51e69046",
   "metadata": {},
   "source": [
    "A string can be multi-line when defined with triple quotes:"
   ]
  },
  {
   "cell_type": "code",
   "execution_count": 35,
   "id": "93a64039",
   "metadata": {},
   "outputs": [
    {
     "name": "stdout",
     "output_type": "stream",
     "text": [
      "Ram is\n",
      "\n",
      "8\n",
      "\n",
      "years old\n",
      "\n",
      "\n",
      "Ram is\n",
      "\n",
      "8\n",
      "\n",
      "years old\n",
      "\n",
      "\n"
     ]
    }
   ],
   "source": [
    "print(\"\"\"Ram is\n",
    "\n",
    "8\n",
    "\n",
    "years old\"\"\")\n",
    "\n",
    "print('''\n",
    "\n",
    "Ram is\n",
    "\n",
    "8\n",
    "\n",
    "years old\n",
    "\n",
    "''')"
   ]
  },
  {
   "cell_type": "markdown",
   "id": "7a861136",
   "metadata": {},
   "source": [
    "#### String are Arrays\n",
    "In Python, strings are similar to those in many other programming languages—they are arrays of bytes that represent Unicode characters.\n",
    "\n",
    "Unlike some languages, Python doesn’t have a separate character data type. Instead, a single character is just a string with one element.\n",
    "\n",
    "You can use square brackets to access parts of the string."
   ]
  },
  {
   "cell_type": "code",
   "execution_count": 36,
   "id": "7c8ab378",
   "metadata": {},
   "outputs": [
    {
     "name": "stdout",
     "output_type": "stream",
     "text": [
      "p\n",
      "h\n",
      "k\n",
      "c \n",
      "\n"
     ]
    }
   ],
   "source": [
    "example_string = \"pulchowk\"\n",
    "\n",
    "print(example_string[0])\n",
    "print(example_string[4])\n",
    "print(example_string[-1])\n",
    "print(example_string[-5], \"\\n\")"
   ]
  },
  {
   "cell_type": "markdown",
   "id": "fe5e379a",
   "metadata": {},
   "source": [
    "### String methods:\n",
    "A string has a set of built-in methods, like:\n",
    "\n",
    "- `isalpha()` to check if a string contains only characters\n",
    "- `isalnum()` to check if it contains letters or digits\n",
    "- `isdigit()` to check if it contains only digits\n",
    "- `lower()` to convert to lowercase\n",
    "- `upper()` to convert to uppercase\n",
    "- `title()` to capitalize the string\n",
    "- `count()` to count the number of the characters\n",
    "- `len()` to show the length of the string\n",
    "- `replace()` to replace parts\n",
    "- `split()` to split string into list\n",
    "- `strip()` to remove whitespace\n",
    "- `join()` to combine list into string\n",
    "- `find()` to find position of substring\n",
    "- `swapcase()` to swap the cases of the string\n",
    "\n",
    "And many more."
   ]
  },
  {
   "cell_type": "code",
   "execution_count": 37,
   "id": "bf208be3",
   "metadata": {},
   "outputs": [
    {
     "name": "stdout",
     "output_type": "stream",
     "text": [
      "['__add__', '__class__', '__contains__', '__delattr__', '__dir__', '__doc__', '__eq__', '__format__', '__ge__', '__getattribute__', '__getitem__', '__getnewargs__', '__getstate__', '__gt__', '__hash__', '__init__', '__init_subclass__', '__iter__', '__le__', '__len__', '__lt__', '__mod__', '__mul__', '__ne__', '__new__', '__reduce__', '__reduce_ex__', '__repr__', '__rmod__', '__rmul__', '__setattr__', '__sizeof__', '__str__', '__subclasshook__', 'capitalize', 'casefold', 'center', 'count', 'encode', 'endswith', 'expandtabs', 'find', 'format', 'format_map', 'index', 'isalnum', 'isalpha', 'isascii', 'isdecimal', 'isdigit', 'isidentifier', 'islower', 'isnumeric', 'isprintable', 'isspace', 'istitle', 'isupper', 'join', 'ljust', 'lower', 'lstrip', 'maketrans', 'partition', 'removeprefix', 'removesuffix', 'replace', 'rfind', 'rindex', 'rjust', 'rpartition', 'rsplit', 'rstrip', 'split', 'splitlines', 'startswith', 'strip', 'swapcase', 'title', 'translate', 'upper', 'zfill']\n"
     ]
    }
   ],
   "source": [
    "print(dir(example_string))"
   ]
  },
  {
   "cell_type": "code",
   "execution_count": 38,
   "id": "c89d73fa",
   "metadata": {},
   "outputs": [
    {
     "name": "stdout",
     "output_type": "stream",
     "text": [
      "PULCHOWK\n",
      "pulchowk\n",
      "PULCHOWK \n",
      "\n",
      "-1\n",
      "-1\n",
      "-1\n",
      "pulchowk\n"
     ]
    }
   ],
   "source": [
    "# String to Uppercase, Lowercase, Swapcase\n",
    "print(example_string.upper())\n",
    "print(example_string.lower())\n",
    "print(example_string.swapcase(), \"\\n\")\n",
    "\n",
    "# Find and Replace\n",
    "print(example_string.find(\"Tech\")) \n",
    "print(example_string.find(\"xi\"))\n",
    "print(example_string.find(\"Job\"))  \n",
    "print(example_string.replace(\"Tech\", \"Job\"))"
   ]
  },
  {
   "cell_type": "markdown",
   "id": "eb123a54",
   "metadata": {},
   "source": [
    "# 2. List\n",
    "In Python, a list is a built-in data type used to store a collection of items. These items can be of different types (e.g., integers, strings, floats, etc.), and they are ordered, meaning that each item has a specific position within the list. Lists are mutable, which means you can change, add, or remove items after the list has been created.\n",
    "\n",
    "\n",
    "Key Characteristics of Lists:\n",
    "1. Ordered: Items in a list have a defined order, and this order will not change unless explicitly modified.\n",
    "2. Mutable: We can modify the contents of a list (add, remove, or change items).\n",
    "3. Indexed: Each item in a list has an index, starting from 0 for the first item.\n",
    "4. Dynamic: Lists can grow or shrink in size as needed."
   ]
  },
  {
   "cell_type": "code",
   "execution_count": 39,
   "id": "744ebb39",
   "metadata": {},
   "outputs": [
    {
     "name": "stdout",
     "output_type": "stream",
     "text": [
      "91 \n",
      "\n",
      "[[85, 90, 78]] \n",
      "\n",
      "[None, 'Tech Axis', 123, 3.14, True, [1, 2, 3], (4, 5, 6), {'name': 'Ram', 'age': 21}]\n"
     ]
    }
   ],
   "source": [
    "marks = [\n",
    "    [85, 90, 78],\n",
    "    [88, 82, 91],\n",
    "    [92, 87, 85]\n",
    "]\n",
    "\n",
    "second_student_third_subject = marks[1][2]\n",
    "print(second_student_third_subject, \"\\n\")\n",
    "\n",
    "#an example of slicing in 2D lists\n",
    "print(marks[0:2][0:1], \"\\n\")\n",
    "\n",
    "# You can create a list of mixed data type\n",
    "random_list = [None, \"Tech Axis\", 123, 3.14, True, [1, 2, 3], (4, 5, 6), {\"name\":\"Ram\", \"age\": 21}]\n",
    "print(random_list)"
   ]
  },
  {
   "cell_type": "markdown",
   "id": "b50fd188",
   "metadata": {},
   "source": [
    "### List methods\n",
    "- `append()` - add an item to the end\n",
    "- `insert(index, item)` - insert at a position\n",
    "- `remove(item)` - remove first matching item\n",
    "- `pop(index)` - remove and return item at index\n",
    "- `index(item)` - return index of item\n",
    "- `count(item)` - count\n",
    "- `sort()` - sort the list\n",
    "- `reverse()` - reverse the list\n",
    "\n",
    "and many more."
   ]
  },
  {
   "cell_type": "code",
   "execution_count": 40,
   "id": "865cc14f",
   "metadata": {},
   "outputs": [
    {
     "name": "stdout",
     "output_type": "stream",
     "text": [
      "0\n",
      "[1, 10, 2, 3, True]\n",
      "['__add__', '__class__', '__class_getitem__', '__contains__', '__delattr__', '__delitem__', '__dir__', '__doc__', '__eq__', '__format__', '__ge__', '__getattribute__', '__getitem__', '__getstate__', '__gt__', '__hash__', '__iadd__', '__imul__', '__init__', '__init_subclass__', '__iter__', '__le__', '__len__', '__lt__', '__mul__', '__ne__', '__new__', '__reduce__', '__reduce_ex__', '__repr__', '__reversed__', '__rmul__', '__setattr__', '__setitem__', '__sizeof__', '__str__', '__subclasshook__', 'append', 'clear', 'copy', 'count', 'extend', 'index', 'insert', 'pop', 'remove', 'reverse', 'sort']\n"
     ]
    }
   ],
   "source": [
    "#example\n",
    "my_list = [1, 2, 3, \"Python\", True]\n",
    "my_list.append(10)\n",
    "my_list.remove(\"Python\")\n",
    "print(my_list.index(True))\n",
    "my_list.sort(key=str) \n",
    "print(my_list)\n",
    "\n",
    "#to see all the methods\n",
    "print(dir(my_list))"
   ]
  },
  {
   "cell_type": "code",
   "execution_count": 41,
   "id": "0b1649ee",
   "metadata": {},
   "outputs": [
    {
     "name": "stdout",
     "output_type": "stream",
     "text": [
      "['apple', 'banana', 'cherry', 'orange'] \n",
      "\n",
      "['apple', 'blueberry', 'banana', 'cherry', 'orange'] \n",
      "\n",
      "['apple', 'blueberry', 'cherry', 'orange'] \n",
      "\n",
      "['apple', 'cherry', 'orange'] \n",
      "\n",
      "['orange', 'cherry', 'apple'] \n",
      "\n"
     ]
    }
   ],
   "source": [
    "fruits = ['apple', 'banana', 'cherry']\n",
    "\n",
    "fruits.append('orange')\n",
    "print(fruits, \"\\n\")\n",
    "\n",
    "fruits.insert(1, 'blueberry')\n",
    "print(fruits, \"\\n\")\n",
    "\n",
    "fruits.remove('banana')\n",
    "print(fruits, \"\\n\")\n",
    "\n",
    "fruits.pop(1)\n",
    "print(fruits, \"\\n\")\n",
    "\n",
    "fruits.reverse()\n",
    "print(fruits, \"\\n\")"
   ]
  },
  {
   "cell_type": "markdown",
   "id": "7bd1a537",
   "metadata": {},
   "source": [
    "#### Unpacking\n",
    "Unpacking in Python is the process of extracting individual elements from a collection (such as a list, tuple, or set) and assigning them to corresponding variables in a single assignment statement."
   ]
  },
  {
   "cell_type": "code",
   "execution_count": 42,
   "id": "899788a1",
   "metadata": {},
   "outputs": [
    {
     "name": "stdout",
     "output_type": "stream",
     "text": [
      "apple\n",
      "banana\n",
      "['cherry', 'orange', 'mango']\n",
      "\n",
      "apple\n",
      "['banana', 'cherry', 'orange']\n",
      "mango\n"
     ]
    }
   ],
   "source": [
    "fruits = ['apple', 'banana', 'cherry', 'orange', 'mango']\n",
    "\n",
    "# Unpacking\n",
    "x, y, *z = fruits\n",
    "print(x)\n",
    "print(y)\n",
    "print(z)\n",
    "\n",
    "print()\n",
    "# Unpacking 2.0\n",
    "p, *q, r = fruits\n",
    "print(p)\n",
    "print(q)\n",
    "print(r)"
   ]
  },
  {
   "cell_type": "markdown",
   "id": "b9f466c2",
   "metadata": {},
   "source": [
    "# 3. Tuple\n",
    "A tuple is an ordered, immutable collection of items. Tuples are similar to lists in that they can store a collection of items, but unlike lists, tuples cannot be modified after they are created. This immutability makes tuples useful for storing data that should not change throughout the program.\n",
    "\n",
    "Key Characteristics of Tuples:\n",
    "1. Ordered: Items have a defined order and that order will not change.\n",
    "2. Immutable: Once created, the items in a tuple cannot be changed, added, or removed.\n",
    "3. Indexed: Each item in a tuple has an index, starting from 0.\n",
    "4. Heterogeneous: Can contain items of different types (integers, strings, floats, etc.).\n",
    "\n",
    "Note: Indexing in Tuple is same as that of List.\n",
    "\n",
    "Tuples, like lists, are ordered collections and allow indexing to access individual elements. Since tuples are immutable, you cannot change their elements after creation, but you can access them using their index.\n"
   ]
  },
  {
   "cell_type": "markdown",
   "id": "6b7e155d",
   "metadata": {},
   "source": [
    "#### Creating a Tuple\n",
    "`mixed_tuple = (1, 'apple', 3.14, True)`"
   ]
  },
  {
   "cell_type": "markdown",
   "id": "bbb9f742",
   "metadata": {},
   "source": [
    "### Tuple Methods\n",
    "- `count()`: Returns the number of times a specified value appears in the tuple.\n",
    "`tuple.count(value)`\n",
    "\n",
    "- `index()`: Returns the index of the first occurrence of the specified value.\n",
    "`tuple.index(value)`"
   ]
  },
  {
   "cell_type": "code",
   "execution_count": 43,
   "id": "147717c2",
   "metadata": {},
   "outputs": [
    {
     "name": "stdout",
     "output_type": "stream",
     "text": [
      "2\n",
      "1\n"
     ]
    }
   ],
   "source": [
    "fruits = ('apple', 'banana', 'cherry', 'apple', 'orange')\n",
    "\n",
    "print(fruits.count('apple'))\n",
    "print(fruits.index('banana'))"
   ]
  },
  {
   "cell_type": "markdown",
   "id": "17df2e3a",
   "metadata": {},
   "source": [
    "# 4. Dictonary\n",
    "A dictionary is an unordered collection of key-value pairs. Each key must be unique and immutable, while the values can be of any data type and can be duplicated.\n",
    "\n",
    "Key Characteristics of Dictionaries:\n",
    "1. Unordered: The items have no defined order.\n",
    "2. Mutable: We can add, remove, or change items.\n",
    "3. Keys: Must be unique and immutable (e.g., strings, numbers, tuples).\n",
    "4. Values: Can be of any data type and can be duplicated."
   ]
  },
  {
   "cell_type": "markdown",
   "id": "dea6f504",
   "metadata": {},
   "source": [
    "##### Creating a dictionary of fruits and their prices:\n",
    "`fruit_prices = {'apple': 0.99, 'banana': 0.59, 'cherry': 2.99}`\n",
    "##### Creating an empty dictionary:\n",
    "`empty_dict = {}`"
   ]
  },
  {
   "cell_type": "markdown",
   "id": "08048e2a",
   "metadata": {},
   "source": [
    "### Dictionary Methods:\n",
    "1. `keys()`: Returns a view object containing the keys of the dictionary.\n",
    "2. `values()`: Returns a view object containing the values of the dictionary.\n",
    "3. `items()`: Returns a view object containing the key-value pairs of the dictionary.\n",
    "4. `get()`: Returns the value for a specified key. Returns None if the key is not found.\n",
    "5. `update()`: Updates the dictionary with the specified key-value pairs.\n",
    "6. `pop()`: Removes the specified key and returns the corresponding value.\n",
    "7. `clear()`: Removes all items from the dictionary.\n"
   ]
  },
  {
   "cell_type": "code",
   "execution_count": 44,
   "id": "e71729c0",
   "metadata": {},
   "outputs": [
    {
     "name": "stdout",
     "output_type": "stream",
     "text": [
      "dict_keys(['apple', 'banana', 'cherry'])\n",
      "dict_values([0.99, 0.59, 2.99])\n",
      "dict_items([('apple', 0.99), ('banana', 0.59), ('cherry', 2.99)]) \n",
      "\n",
      "{'apple': 0.99, 'banana': 0.59, 'cherry': 2.99, 'orange': 1.29}\n",
      "{'apple': 0.99, 'cherry': 2.99, 'orange': 1.29}\n",
      "0.59\n",
      "{}\n"
     ]
    }
   ],
   "source": [
    "fruit_prices = {'apple': 0.99,\n",
    "                'banana': 0.59,\n",
    "                'cherry': 2.99}\n",
    "\n",
    "# Get all keys\n",
    "print(fruit_prices.keys())\n",
    "\n",
    "# Get all values\n",
    "print(fruit_prices.values())\n",
    "\n",
    "# Get all items\n",
    "print(fruit_prices.items(), \"\\n\")\n",
    "\n",
    "\n",
    "\n",
    "# Add a new fruit and its price\n",
    "fruit_prices.update({'orange': 1.29})\n",
    "print(fruit_prices)\n",
    "\n",
    "# Remove a fruit and its price\n",
    "price_of_banana = fruit_prices.pop('banana')\n",
    "print(fruit_prices)\n",
    "print(price_of_banana)\n",
    "\n",
    "# Clear all items from the dictionary\n",
    "fruit_prices.clear()\n",
    "print(fruit_prices)\n"
   ]
  },
  {
   "cell_type": "markdown",
   "id": "1cd3b7e0",
   "metadata": {},
   "source": [
    "# 4. Set\n",
    "A set is an unordered collection of unique elements. Sets are used when the presence of an element is more important than the order or the number of times it appears.\n",
    "\n",
    "Key Characteristics of Sets:\n",
    "1. Unordered: The items have no defined order.\n",
    "2. Unique: Duplicate items are not allowed.\n",
    "3. Mutable: You can add or remove items from a set.\n",
    "4. Iterable: You can loop through the items in a set."
   ]
  },
  {
   "cell_type": "markdown",
   "id": "4d69eee3",
   "metadata": {},
   "source": [
    "#### Creating a set of fruits\n",
    "`fruits = {'apple', 'banana', 'cherry'}`\n",
    "#### Creating an empty set\n",
    "`empty_set = set()`"
   ]
  },
  {
   "cell_type": "markdown",
   "id": "19bd3ce4",
   "metadata": {},
   "source": [
    "### Set Methods:\n",
    "1. `add()`: Adds an element to the set.\n",
    "2. `remove()`: Removes a specific element from the set. Raises an error if the element is not found.\n",
    "3. `discard()`: Removes a specific element from the set. Does not raise an error if the element is not found.\n",
    "4. `pop()`: Removes and returns an arbitrary element from the set.\n",
    "5. `clear()`: Removes all elements from the set.\n",
    "6. `union()`: Returns a set that is the union of sets.\n",
    "7. `intersection()`: Returns a set that is the intersection of sets.\n",
    "8. `difference()`: Returns a set containing the difference between two or more sets."
   ]
  },
  {
   "cell_type": "code",
   "execution_count": 45,
   "id": "2e80fbb8",
   "metadata": {},
   "outputs": [
    {
     "name": "stdout",
     "output_type": "stream",
     "text": [
      "{'banana', 'orange', 'apple', 'cherry'}\n",
      "{'orange', 'apple', 'cherry'}\n"
     ]
    }
   ],
   "source": [
    "fruits = {'apple', 'banana', 'cherry'}\n",
    "\n",
    "# Add an element\n",
    "fruits.add('orange')\n",
    "print(fruits)\n",
    "\n",
    "# Remove an element\n",
    "fruits.remove('banana')\n",
    "print(fruits)"
   ]
  },
  {
   "cell_type": "code",
   "execution_count": 46,
   "id": "0344fb41",
   "metadata": {},
   "outputs": [
    {
     "name": "stdout",
     "output_type": "stream",
     "text": [
      "{'banana', 'mango', 'pineapple', 'apple', 'cherry'}\n",
      "{'banana'}\n"
     ]
    }
   ],
   "source": [
    "tropical_fruits = {'mango', 'pineapple', 'banana'}\n",
    "fruits = {'apple', 'banana', 'cherry'}\n",
    "\n",
    "# Union of sets\n",
    "all_fruits = fruits.union(tropical_fruits)\n",
    "print(all_fruits)\n",
    "\n",
    "# Intersection of sets\n",
    "common_fruits = fruits.intersection(tropical_fruits)\n",
    "print(common_fruits)  # Output: {'banana'}"
   ]
  }
 ],
 "metadata": {
  "kernelspec": {
   "display_name": "Python 3",
   "language": "python",
   "name": "python3"
  },
  "language_info": {
   "codemirror_mode": {
    "name": "ipython",
    "version": 3
   },
   "file_extension": ".py",
   "mimetype": "text/x-python",
   "name": "python",
   "nbconvert_exporter": "python",
   "pygments_lexer": "ipython3",
   "version": "3.13.3"
  }
 },
 "nbformat": 4,
 "nbformat_minor": 5
}

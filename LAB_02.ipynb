{
 "cells": [
  {
   "cell_type": "markdown",
   "id": "bbffc595",
   "metadata": {},
   "source": [
    "# LAB - DAY 02"
   ]
  },
  {
   "cell_type": "markdown",
   "id": "aee2c8ed",
   "metadata": {},
   "source": [
    "1. Write a program to input n numbers and store them in a list. Then perform the following oprations. I) Using built-in functions II) Without using the built-in functions:\n",
    "    - Find the maximum and minumum number\n",
    "    - Sort list in ascending order\n",
    "    - Remove duplicate elements"
   ]
  },
  {
   "cell_type": "code",
   "execution_count": null,
   "id": "493af604",
   "metadata": {},
   "outputs": [
    {
     "name": "stdout",
     "output_type": "stream",
     "text": [
      "The number list is: [23, 5, 1, 754, 3].\n",
      "The maximum number of the list is: 754.\n",
      "The minimum number of the list is: 1.\n"
     ]
    }
   ],
   "source": [
    "#using buit-in functon to find the maximum and minimum number.\n",
    "terms = int(input(\"How many numbers are there in the list? \"))\n",
    "number_list = []\n",
    "\n",
    "for i in range(terms):\n",
    "    number = int(input(f\"Number {i+1}. \"))\n",
    "    number_list.append(number)\n",
    "\n",
    "print(f\"The number list is: {number_list}.\")\n",
    "\n",
    "print(f\"The maximum number of the list is: {max(number_list)}.\")\n",
    "print(f\"The minimum number of the list is: {min(number_list)}.\")"
   ]
  },
  {
   "cell_type": "code",
   "execution_count": null,
   "id": "403afc85",
   "metadata": {},
   "outputs": [
    {
     "name": "stdout",
     "output_type": "stream",
     "text": [
      "The number list is: [1, 2, 3].\n",
      "The maximum number of the list is: 3.\n",
      "The minimum number of the list is: 1.\n"
     ]
    }
   ],
   "source": [
    "#not using the built-in function to find the maximum and minimum number.\n",
    "terms = int(input(\"How many numbers are there in the list? \"))\n",
    "number_list = []\n",
    "\n",
    "for i in range(terms):\n",
    "    number = int(input(f\"Number {i+1}. \"))\n",
    "    number_list.append(number)\n",
    "\n",
    "print(f\"The number list is: {number_list}.\")\n",
    "\n",
    "maximum = number_list[0]\n",
    "minimum = number_list[0]\n",
    "\n",
    "for i in range(len(number_list)):\n",
    "    if number_list[i] > maximum:\n",
    "        maximum = number_list[i]\n",
    "    if number_list[i] < minimum:\n",
    "        minimum = number_list[i]\n",
    "\n",
    "print(f\"The maximum number of the list is: {maximum}.\")\n",
    "print(f\"The minimum number of the list is: {minimum}.\")\n"
   ]
  },
  {
   "cell_type": "code",
   "execution_count": null,
   "id": "dc1031d4",
   "metadata": {},
   "outputs": [
    {
     "name": "stdout",
     "output_type": "stream",
     "text": [
      "The number list is: [31, 3, 12, 53, 3].\n",
      "The sorted list in ascending order is: [3, 3, 12, 31, 53].\n"
     ]
    }
   ],
   "source": [
    "#sort a list by using in-built python function\n",
    "terms = int(input(\"How many numbers are there in the list? \"))\n",
    "number_list = []\n",
    "\n",
    "for i in range(terms):\n",
    "    number = int(input(f\"Number {i+1}. \"))\n",
    "    number_list.append(number)\n",
    "\n",
    "print(f\"The number list is: {number_list}.\")\n",
    "number_list.sort()\n",
    "print(f\"The sorted list in ascending order is: {number_list}.\")"
   ]
  },
  {
   "cell_type": "code",
   "execution_count": null,
   "id": "9b6e056b",
   "metadata": {},
   "outputs": [
    {
     "name": "stdout",
     "output_type": "stream",
     "text": [
      "The number list is: [100, 2, 58].\n",
      "The sorted list in ascending order is: [2, 58, 100].\n"
     ]
    }
   ],
   "source": [
    "#sorting a list without using the built-in python function\n",
    "terms = int(input(\"How many numbers are there in the list? \"))\n",
    "number_list = []\n",
    "\n",
    "for i in range(terms):\n",
    "    number = int(input(f\"Number {i+1}. \"))\n",
    "    number_list.append(number)\n",
    "\n",
    "print(f\"The number list is: {number_list}.\")\n",
    "\n",
    "#sorting # BUBBLE SORT\n",
    "n = len(number_list)\n",
    "for i in range(n-1):\n",
    "    for j in range(0, n-i-1):\n",
    "        if number_list[j] > number_list[j+1]:\n",
    "            temp = number_list[j]\n",
    "            number_list[j], number_list[j+1] = number_list[j+1], temp\n",
    "\n",
    "print(f\"The sorted list in ascending order is: {number_list}.\")  "
   ]
  },
  {
   "cell_type": "code",
   "execution_count": null,
   "id": "c99ba243",
   "metadata": {},
   "outputs": [
    {
     "name": "stdout",
     "output_type": "stream",
     "text": [
      "The number list is: [1, 1, 1].\n",
      "The list without duplicates is: [1].\n"
     ]
    }
   ],
   "source": [
    "#removing duplicates using built-in function. \n",
    "terms = int(input(\"How many numbers are there in the list? \"))\n",
    "number_list = []\n",
    "\n",
    "for i in range(terms):\n",
    "    number = int(input(f\"Number {i+1}. \"))\n",
    "    number_list.append(number)\n",
    "\n",
    "print(f\"The number list is: {number_list}.\")\n",
    "print(f\"The list without duplicates is: {list(set(number_list))}.\")"
   ]
  },
  {
   "cell_type": "code",
   "execution_count": 3,
   "id": "3703826a",
   "metadata": {},
   "outputs": [
    {
     "name": "stdout",
     "output_type": "stream",
     "text": [
      "The number list is: [1, 2, 1].\n",
      "The list without duplicates is: [1, 2].\n"
     ]
    }
   ],
   "source": [
    "#removing duplicaes without using the built-in function \n",
    "terms = int(input(\"How many numbers are there in the list? \"))\n",
    "number_list = []\n",
    "\n",
    "for i in range(terms):\n",
    "    number = int(input(f\"Number {i+1}. \"))\n",
    "    number_list.append(number)\n",
    "\n",
    "print(f\"The number list is: {number_list}.\")\n",
    "\n",
    "unique_list = []\n",
    "for item in number_list:\n",
    "    if item not in unique_list:\n",
    "        unique_list.append(item)\n",
    "print(f\"The list without duplicates is: {unique_list}.\")"
   ]
  },
  {
   "cell_type": "markdown",
   "id": "af52cf8d",
   "metadata": {},
   "source": [
    "2. Given two lists of integers, write a program to merge them into a single list and then remove the elements that are common in both."
   ]
  },
  {
   "cell_type": "code",
   "execution_count": 3,
   "id": "6ba9ce58",
   "metadata": {},
   "outputs": [
    {
     "name": "stdout",
     "output_type": "stream",
     "text": [
      "[1, 2, 3, 4, 5, 6, 7, 8, 10]\n"
     ]
    }
   ],
   "source": [
    "list1 = [1, 2, 3, 4, 5, 6, 7]\n",
    "list2 = [2, 4, 6, 8, 10]\n",
    "\n",
    "list3 = list1 + list2\n",
    "final_list = list(set(list3))\n",
    "final_list.sort()\n",
    "\n",
    "print(final_list)"
   ]
  },
  {
   "cell_type": "markdown",
   "id": "1a2a9622",
   "metadata": {},
   "source": [
    "3. Create a program that reads a sentence from the user and stores each word as an element of a list. Then count the frequency of each word using only lists."
   ]
  },
  {
   "cell_type": "code",
   "execution_count": 23,
   "id": "30eb6642",
   "metadata": {},
   "outputs": [
    {
     "name": "stdout",
     "output_type": "stream",
     "text": [
      "{'ball': 1, 'cat': 2, 'apple': 2, 'elephant': 2, 'dog': 4}\n"
     ]
    }
   ],
   "source": [
    "sentence = \"apple apple ball cat cat dog dog dog dog elephant elephant\"\n",
    "words = sentence.split()\n",
    "unique_words = set(words)\n",
    "#counting the number of unique words\n",
    "d = {}\n",
    "for word in unique_words:\n",
    "    d[word] = words.count(word)\n",
    "\n",
    "print(d)"
   ]
  },
  {
   "cell_type": "markdown",
   "id": "4aff0b23",
   "metadata": {},
   "source": [
    "4. Write a program to simulate a basic stack and queue using a list. Provide options to push, pop(stack), enqueue, and dequeue(queue)."
   ]
  },
  {
   "cell_type": "code",
   "execution_count": 1,
   "id": "85d60ad2",
   "metadata": {},
   "outputs": [
    {
     "name": "stdout",
     "output_type": "stream",
     "text": [
      "\n",
      "Choose an operation:\n",
      "[1] Push to Stack\n",
      "[2] Pop from Stack\n",
      "[3] Display Stack\n",
      "[0] Exit\n",
      "Enter your choice: 1\n",
      "Enter number to stack: 1\n",
      "\n",
      "Choose an operation:\n",
      "[1] Push to Stack\n",
      "[2] Pop from Stack\n",
      "[3] Display Stack\n",
      "[0] Exit\n",
      "Enter your choice: 1\n",
      "Enter number to stack: 2\n",
      "\n",
      "Choose an operation:\n",
      "[1] Push to Stack\n",
      "[2] Pop from Stack\n",
      "[3] Display Stack\n",
      "[0] Exit\n",
      "Enter your choice: 3\n",
      "Stack: [1, 2]\n",
      "\n",
      "Choose an operation:\n",
      "[1] Push to Stack\n",
      "[2] Pop from Stack\n",
      "[3] Display Stack\n",
      "[0] Exit\n",
      "Enter your choice: 2\n",
      "Popped number from stack is: 2\n",
      "\n",
      "Choose an operation:\n",
      "[1] Push to Stack\n",
      "[2] Pop from Stack\n",
      "[3] Display Stack\n",
      "[0] Exit\n",
      "Enter your choice: 3\n",
      "Stack: [1]\n",
      "\n",
      "Choose an operation:\n",
      "[1] Push to Stack\n",
      "[2] Pop from Stack\n",
      "[3] Display Stack\n",
      "[0] Exit\n",
      "Enter your choice: 0\n",
      "Exiting...\n",
      "\n",
     ]
    }
   ],
   "source": [
    "stack = []\n",
    "\n",
    "while True:\n",
    "    print(\"\\nChoose an operation:\")\n",
    "    print(\"[1] Push to Stack\")\n",
    "    print(\"[2] Pop from Stack\")\n",
    "    print(\"[3] Display Stack\")\n",
    "    print(\"[0] Exit\")\n",
    "\n",
    "    choice = input(\"Enter your choice: \")\n",
    "\n",
    "    if choice == \"1\":\n",
    "        num = int(input(\"Enter number to push to stack: \"))\n",
    "        stack.append(num)\n",
    "\n",
    "    elif choice == \"2\":\n",
    "        if len(stack) == 0:\n",
    "            print(\"Stack is empty.\")\n",
    "            continue\n",
    "            \n",
    "        else:\n",
    "            print(f\"Popped number from stack is: {stack.pop()}\")\n",
    "\n",
    "    elif choice == \"3\":\n",
    "        if len(stack) == 0:\n",
    "            print(\"Stack is empty.\")\n",
    "            continue\n",
    "        else:\n",
    "            print(f\"Stack: {stack}\")\n",
    "\n",
    "    elif choice == \"0\":\n",
    "        print(\"Exiting...\")\n",
    "        break\n",
    "\n",
    "    else:\n",
    "        print(\"Invalid choice. Please try again.\")\n",
    "        break\n"
   ]
  },
  {
   "cell_type": "code",
   "execution_count": 2,
   "id": "ce369a7d",
   "metadata": {},
   "outputs": [
    {
     "name": "stdout",
     "output_type": "stream",
     "text": [
      "\n",
      "Choose an operation:\n",
      "[1] Enqueue to Queue\n",
      "[2] Dequeue from Queue\n",
      "[3] Display Queue\n",
      "[0] Exit\n",
      "\n"
      "\n",
      "Choose an operation:\n",
      "[1] Enqueue to Queue\n",
      "[2] Dequeue from Queue\n",
      "[3] Display Queue\n",
      "[0] Exit\n",
      "\n",
      "Choose an operation:\n",
      "[1] Enqueue to Queue\n",
      "[2] Dequeue from Queue\n",
      "[3] Display Queue\n",
      "[0] Exit\n",
      "\n",
      "Choose an operation:\n",
      "[1] Enqueue to Queue\n",
      "[2] Dequeue from Queue\n",
      "[3] Display Queue\n",
      "[0] Exit\n",
      "Dequeued number from queue is: 1\n",
      "\n",
      "Choose an operation:\n",
      "[1] Enqueue to Queue\n",
      "[2] Dequeue from Queue\n",
      "[3] Display Queue\n",
      "[0] Exit\n",
      "Queue: [2, 3]\n",
      "\n",
      "Choose an operation:\n",
      "[1] Enqueue to Queue\n",
      "[2] Dequeue from Queue\n",
      "[3] Display Queue\n",
      "[0] Exit\n",
      "Exiting...\n"
     ]
    }
   ],
   "source": [
    "queue = []\n",
    "\n",
    "while True:\n",
    "    print(\"\\nChoose an operation:\")\n",
    "    print(\"[1] Enqueue to Queue\")\n",
    "    print(\"[2] Dequeue from Queue\")\n",
    "    print(\"[3] Display Queue\")\n",
    "    print(\"[0] Exit\")\n",
    "\n",
    "    choice = input(\"Enter your choice: \")\n",
    "\n",
    "    if choice == \"1\":\n",
    "        num = int(input(\"Enter number to enqueue to queue: \"))\n",
    "        queue.append(num)\n",
    "\n",
    "    elif choice == \"2\":\n",
    "        if len(queue) == 0:\n",
    "            print(\"Queue is empty.\")\n",
    "            continue\n",
    "        else:\n",
    "            print(f\"Dequeued number from queue is: {queue.pop(0)}\")\n",
    "\n",
    "    elif choice == \"3\":\n",
    "        if len(queue) == 0:\n",
    "            print(\"Queue is empty.\")\n",
    "            continue\n",
    "        else:\n",
    "            print(f\"Queue: {queue}\")\n",
    "\n",
    "    elif choice == \"0\":\n",
    "        print(\"Exiting...\")\n",
    "        break\n",
    "\n",
    "    else:\n",
    "        print(\"Invalid choice. Please try again.\")\n",
    "        break\n"
   ]
  },
  {
   "cell_type": "markdown",
   "id": "3452c552",
   "metadata": {},
   "source": [
    "5. Write a Python function that accepts a list and returns a new list containing only elements at even indices and those that are prime numbers."
   ]
  },
  {
   "cell_type": "code",
   "execution_count": 8,
   "id": "983a3e42",
   "metadata": {},
   "outputs": [
    {
     "name": "stdout",
     "output_type": "stream",
     "text": [
      "The number at even indices are: [1, 3, 5, 7, 9, 11, 13, 15, 17, 19, 21, 23, 25, 27, 29]\n",
      "The prime numbers at even indices are: [3, 5, 7, 11, 13, 17, 19, 23, 29]\n"
     ]
    }
   ],
   "source": [
    "l = [1, 2, 3, 4, 5, 6, 7, 8, 9, 10, 11, 12, 13, 14, 15, 16, 17, 18, 19, 20, 21, 22, 23, 24, 25, 26, 27, 28, 29, 30]\n",
    "\n",
    "number_at_even_indices = []\n",
    "for number in range(0, len(l), 2):\n",
    "    number_at_even_indices.append(l[number])\n",
    "print(f\"The number at even indices are: {number_at_even_indices}\")\n",
    "\n",
    "prime_numbers = []\n",
    "for value in number_at_even_indices:\n",
    "    count = 0\n",
    "    for i in range(1, value + 1):\n",
    "        if value % i == 0:\n",
    "            count += 1\n",
    "    if count == 2:\n",
    "        prime_numbers.append(value)\n",
    "print(f\"The prime numbers at even indices are: {prime_numbers}\")"
   ]
  },
  {
   "cell_type": "markdown",
   "id": "fa22495e",
   "metadata": {},
   "source": [
    "6. Write a program to create a tuple of `n` numbers, then find: <br>\n",
    "    a. The average of the numbers. <br>\n",
    "    b. The median. <br>\n",
    "    c. The mode (without using the libraries.)"
   ]
  },
  {
   "cell_type": "code",
   "execution_count": 16,
   "id": "d0a05be9",
   "metadata": {},
   "outputs": [
    {
     "name": "stdout",
     "output_type": "stream",
     "text": [
      "The mean of the list is: 40.111111111111114\n",
      "The median of the list is: 30\n",
      "The unique elements in the list are: [10, 20, 30, 41, 50, 90, 100] and their frequency is: \n",
      "[3, 1, 1, 1, 1, 1, 1]\n",
      "The mode of the list is: 10\n"
     ]
    }
   ],
   "source": [
    "l = [10, 10, 10, 20, 30, 50, 41, 100, 90]\n",
    "mean_of_list = sum(l) / len(l)\n",
    "print(f\"The mean of the list is: {mean_of_list}\")\n",
    "\n",
    "l.sort()\n",
    "if(len(l) % 2 == 0):\n",
    "    n1 = l[len(l)//2]\n",
    "    n2 = l[len(l)//2 + 1]\n",
    "    median = (n1 + n2) / 2\n",
    "    print(f\"The median of the list is: {median}\")\n",
    "else:\n",
    "    print(f\"The median of the list is: {l[len(l)//2]}\")\n",
    "\n",
    "#for mode\n",
    "unique_l = list(set(l))\n",
    "unique_l.sort()\n",
    "print(f\"The unique elements in the list are: {unique_l} and their frequency is: \")\n",
    "\n",
    "counts = []\n",
    "\n",
    "for n in unique_l:\n",
    "    counts.append(l.count(n))\n",
    "# print(unique_l)\n",
    "print(counts)\n",
    "\n",
    "max_freq = max(counts)\n",
    "index_of_max_freq = counts.index(max_freq)\n",
    "# print(f\"The index of the mode is: {index_of_max_freq}\")\n",
    "print(f\"The mode of the list is: {unique_l[index_of_max_freq]}\")"
   ]
  },
  {
   "cell_type": "markdown",
   "id": "d67174b2",
   "metadata": {},
   "source": [
    "7. Write a program that receives a list of tuples representing (x, y) coordinates. Determine whether the points form a straight line."
   ]
  },
  {
   "cell_type": "code",
   "execution_count": null,
   "id": "77fcb282",
   "metadata": {},
   "outputs": [
    {
     "name": "stdout",
     "output_type": "stream",
     "text": [
      "Yes, the points form a straight line.\n"
     ]
    }
   ],
   "source": [
    "points = [(1, 2), (2, 4), (3, 6)]\n",
    "if len(points) < 2:\n",
    "    print(\"Yes, the points form a straight line.\")\n",
    "else:\n",
    "    (x0, y0), (x1, y1) = points[0], points[1]\n",
    "    dx = x1 - x0\n",
    "    dy = y1 - y0\n",
    "\n",
    "    for i in range(2, len(points)):\n",
    "        x, y = points[i]\n",
    "        if dy * (x - x0) != dx * (y - y0):\n",
    "            print(\"No, the points do not form a straight line.\")\n",
    "            break\n",
    "    print(\"Yes, the points form a straight line.\") "
   ]
  },
  {
   "cell_type": "markdown",
   "id": "c3e422ea",
   "metadata": {},
   "source": [
    "8. Write a program to input two sets of students roll numbers: one who play cricket and another who play football. Find: <br>\n",
    "    a. Students who play both sports. <br>\n",
    "    b. Students who play only one sport. <br>\n",
    "    c. Students who play neither (given a master list of all students)"
   ]
  },
  {
   "cell_type": "code",
   "execution_count": 3,
   "id": "007ba5c2",
   "metadata": {},
   "outputs": [
    {
     "name": "stdout",
     "output_type": "stream",
     "text": [
      "Students who play both cricket and football: {'2', '4', '3', '5'}\n",
      "Students who play only one game: {'1', '6', '7'}\n",
      "Students who play neither cricket nor football: {'17', '12', '20', '14', '11', '15', '13', '19', '9', '16', '8', '10', '18'}\n"
     ]
    }
   ],
   "source": [
    "all_students = set(input(\"Enter the roll number of all students (separated by commas:) \").split(','))\n",
    "#input the set of cricket and football players\n",
    "cricket_players = set(input(\"Enter the roll number of cricket players (separated by commas:) \").split(','))\n",
    "football_players = set(input(\"Enter the roll number of football players (separated by commas:) \").split(','))\n",
    "\n",
    "#a. Students who play both cricket and football (C ∩ F)\n",
    "both_players = cricket_players.intersection(football_players)\n",
    "print(f\"Students who play both cricket and football: {both_players}\")\n",
    "\n",
    "#b. students who play only one game (C - F) ∪ (F - C)\n",
    "#b.1 C - F\n",
    "cricket_only = cricket_players.difference(football_players)\n",
    "#b.2 F - C\n",
    "football_only = football_players.difference(cricket_players)\n",
    "#b.3 (C - F) ∪ (F - C)\n",
    "only_one_game = cricket_only.union(football_only)\n",
    "print(f\"Students who play only one game: {only_one_game}\")\n",
    "\n",
    "#c. Students who play neither cricket nor football (U - (C ∪ F))\n",
    "#union of cricket and football players -> C ∪ F\n",
    "all_players = cricket_players.union(football_players)\n",
    "neither_players = all_students.difference(all_players)\n",
    "print(f\"Students who play neither cricket nor football: {neither_players}\")\n"
   ]
  },
  {
   "cell_type": "markdown",
   "id": "4387508a",
   "metadata": {},
   "source": [
    "9. Create a set of random numbers. Add more numbers until the set has 10 unique elements. Also, remove the smallest and largest elements."
   ]
  },
  {
   "cell_type": "code",
   "execution_count": 28,
   "id": "aef46bec",
   "metadata": {},
   "outputs": [
    {
     "name": "stdout",
     "output_type": "stream",
     "text": [
      "The set of random numbers is: {32, 65, 96, 58, 5, 72, 12, 45, 90, 60}.\n",
      "The set after removing the smallest (5) and largest (96) numbers is: {32, 65, 58, 72, 12, 45, 90, 60}.\n"
     ]
    }
   ],
   "source": [
    "#creating the set of random numbers\n",
    "import random as r\n",
    "random_numbers = set()\n",
    "while len(random_numbers) < 10:\n",
    "    random_numbers.add(r.randint(1, 100))\n",
    "print(f\"The set of random numbers is: {random_numbers}.\")\n",
    "#removing the smallest and largest number from the set\n",
    "\n",
    "smallest = min(random_numbers)\n",
    "largest = max(random_numbers)\n",
    "random_numbers.remove(smallest)\n",
    "random_numbers.remove(largest)\n",
    "print(f\"The set after removing the smallest ({smallest}) and largest ({largest}) numbers is: {random_numbers}.\")"
   ]
  },
  {
   "cell_type": "markdown",
   "id": "2291823c",
   "metadata": {},
   "source": [
    "10. Write a Python function that accepts a sentence and returns a set of all unique vowels used."
   ]
  },
  {
   "cell_type": "code",
   "execution_count": 29,
   "id": "5357d7ec",
   "metadata": {},
   "outputs": [
    {
     "name": "stdout",
     "output_type": "stream",
     "text": [
      "The unique vowels in the sentence are: {'a', 'o', 'e'}.\n"
     ]
    }
   ],
   "source": [
    "#a sentence\n",
    "sentence = \"apple apple ball cat cat dog dog dog dog elephant elephant\"\n",
    "# now counting the unique vowels in the sentence\n",
    "vowels = set(\"aeiou\")\n",
    "unique_vowels = set()\n",
    "for char in sentence:\n",
    "    if char in vowels:\n",
    "        unique_vowels.add(char)\n",
    "print(f\"The unique vowels in the sentence are: {unique_vowels}.\")"
   ]
  },
  {
   "cell_type": "markdown",
   "id": "92576530",
   "metadata": {},
   "source": [
    "11. Given a list of numbers with duplicates, use a set to remove the duplicates. Then, convert it back to a sorted list and display the result."
   ]
  },
  {
   "cell_type": "code",
   "execution_count": null,
   "id": "2b9b941f",
   "metadata": {},
   "outputs": [
    {
     "name": "stdout",
     "output_type": "stream",
     "text": [
      "No duplicates list without sorting: [1, 2, 3, 4, 5, 7, 9, 10].\n",
      "The sorted list is: [1, 2, 3, 4, 5, 7, 9, 10]\n"
     ]
    }
   ],
   "source": [
    "list_of_numbers = [5, 5, 4, 1, 2, 1, 2, 4, 5, 3, 5, 7, 7, 3, 10, 10, 9]\n",
    "unique_numbers = set(list_of_numbers)\n",
    "sorted_unique_numbers = sorted(unique_numbers)\n",
    "\n",
    "print(f\"Original list: {list_of_numbers}\")\n",
    "print(f\"The sorted list is: {sorted_unique_numbers}\")"
   ]
  },
  {
   "cell_type": "markdown",
   "id": "8e716965",
   "metadata": {},
   "source": [
    "12. Create a dictionary to store student names as keys and their scores in three subjects as values (in a list). Write a function to:<br>\n",
    "    a. Display the average marks of each student.<br>\n",
    "    b. Find the topper.<br>\n",
    "    c. Update the marks of a student"
   ]
  },
  {
   "cell_type": "code",
   "execution_count": 34,
   "id": "6a1c011b",
   "metadata": {},
   "outputs": [
    {
     "name": "stdout",
     "output_type": "stream",
     "text": [
      "Average marks of each student:\n",
      "Abhiman: 56.00\n",
      "Manish: 67.00\n",
      "Karn: 60.00\n",
      "The topper is Manish with an average of 67.00.\n",
      "Current marks of Manish: [45, 67, 89]\n",
      "Updated marks of Manish: {'Abhiman': [34, 56, 78], 'Manish': [55, 59, 57], 'Karn': [50, 60, 70]}\n"
     ]
    }
   ],
   "source": [
    "student_data = {\n",
    "    \"Abhiman\": [34, 56, 78],\n",
    "    \"Manish\": [45, 67, 89],\n",
    "    \"Karn\": [50, 60, 70]\n",
    "}\n",
    "#displaying the average marks of each student\n",
    "print(\"Average marks of each student:\")\n",
    "for name in student_data:\n",
    "    marks = student_data[name]\n",
    "    average = sum(marks) / len(marks)\n",
    "    print(f\"{name}: {average:.2f}\")\n",
    "\n",
    "#b. topper\n",
    "topper = \"\"\n",
    "highest_average = 0\n",
    "for name in student_data:\n",
    "    marks = student_data[name]\n",
    "    average = sum(marks) / len(marks)\n",
    "    if average > highest_average:\n",
    "        highest_average = average\n",
    "        topper = name\n",
    "print(f\"The topper is {topper} with an average of {highest_average:.2f}.\")\n",
    "\n",
    "#c. update\n",
    "name = input(\"Enter the name of the student to update marks: \")\n",
    "if name in student_data:\n",
    "    print(f\"Current marks of {name}: {student_data[name]}\")\n",
    "    new_marks = []\n",
    "    for i in range(3):\n",
    "        mark = int(input(f\"Enter new mark {i+1} for {name}: \"))\n",
    "        new_marks.append(mark)\n",
    "    student_data[name] = new_marks\n",
    "    print(f\"Updated marks of {name}: {student_data}\")\n",
    "else:\n",
    "    print(f\"Student {name} not found in the data.\")\n"
   ]
  },
  {
   "cell_type": "markdown",
   "id": "1de6a0f2",
   "metadata": {},
   "source": [
    "13. Write a program that reads a text and counts the frequency of each character (including spaces and special characters) using a dictionary."
   ]
  },
  {
   "cell_type": "code",
   "execution_count": 39,
   "id": "cf78bd22",
   "metadata": {},
   "outputs": [
    {
     "name": "stdout",
     "output_type": "stream",
     "text": [
      "Character frequency in the text:\n",
      "I: 1\n",
      " : 3\n",
      "a: 2\n",
      "m: 1\n",
      "g: 1\n",
      "o: 1\n",
      "d: 1\n"
     ]
    }
   ],
   "source": [
    "text = input(\"Enter a text: \")\n",
    "frequency = {}\n",
    "for char in text:\n",
    "    if char in frequency:\n",
    "        frequency[char] += 1\n",
    "    else:\n",
    "        frequency[char] = 1\n",
    "print(\"Character frequency in the text:\")\n",
    "for char, count in frequency.items():\n",
    "    print(f\"{char}: {count}\")   "
   ]
  },
  {
   "cell_type": "markdown",
   "id": "afb96369",
   "metadata": {},
   "source": [
    "14. Build a dictionary where the keys are product names and the values are their prices. Implement options to: <br>\n",
    "    a. Add a new product.<br>\n",
    "    b. Update price of an existing operator.<br>\n",
    "    c. Find products within a given price range."
   ]
  },
  {
   "cell_type": "code",
   "execution_count": null,
   "id": "0a417714",
   "metadata": {},
   "outputs": [
    {
     "name": "stdout",
     "output_type": "stream",
     "text": [
      "Product details: {'laptop': 100000, 'mobile': 50000, 'headphones': 5000, 'keyboard': 1500}\n"
     ]
    }
   ],
   "source": [
    "product_details = {\n",
    "    \"laptop\": 100000,\n",
    "    \"mobile\": 50000,\n",
    "    \"headphones\": 5000,\n",
    "    \"keyboard\": 1500,\n",
    "}\n",
    "print(\"Product details:\", product_details)\n",
    "print(\"[1] Add a new product.\")\n",
    "print(\"[2] Update an existing product.\")\n",
    "print(\"[3] Find a products within a given price range.\")\n",
    "choice = input(\"Enter your choice: \")\n",
    "if choice == \"1\":\n",
    "    product_name = input(\"Enter the product name: \")\n",
    "    product_price = int(input(\"Enter the product price: \"))\n",
    "    product_details[product_name] = product_price\n",
    "    print(f\"Product {product_name} added with price {product_price}.\")\n",
    "elif choice == \"2\":\n",
    "    product_name = input(\"Enter the product name to update: \")\n",
    "    if product_name in product_details:\n",
    "        product_price = int(input(\"Enter the new product price: \"))\n",
    "        product_details[product_name] = product_price\n",
    "        print(f\"Product {product_name} updated with new price {product_price}.\")\n",
    "    else:\n",
    "        print(f\"Product {product_name} not found.\")         \n",
    "elif choice == \"3\":\n",
    "    min_price = int(input(\"Enter the minimum price: \"))\n",
    "    max_price = int(input(\"Enter the maximum price: \"))\n",
    "    print(\"Products within the given price range:\")\n",
    "    for product, price in product_details.items():\n",
    "        if min_price <= price <= max_price:\n",
    "            print(f\"{product}: {price}\")"
   ]
  }
 ],
 "metadata": {
  "kernelspec": {
   "display_name": "Myvenv",
   "language": "python",
   "name": "python3"
  },
  "language_info": {
   "codemirror_mode": {
    "name": "ipython",
    "version": 3
   },
   "file_extension": ".py",
   "mimetype": "text/x-python",
   "name": "python",
   "nbconvert_exporter": "python",
   "pygments_lexer": "ipython3",
   "version": "3.12.3"
  }
 },
 "nbformat": 4,
 "nbformat_minor": 5
}

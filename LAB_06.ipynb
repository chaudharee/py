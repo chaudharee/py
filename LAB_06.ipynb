{
 "cells": [
  {
   "cell_type": "markdown",
   "id": "551012e4",
   "metadata": {},
   "source": [
    "# LAB 06\n"
   ]
  },
  {
   "cell_type": "markdown",
   "id": "53ed9f44",
   "metadata": {},
   "source": [
    "1. Define a class `Student` with attributes name, roll_number, and marks. Implement a method `display_info()` that prints the details of the student. Create an instance of `Student` and call the `display_info()` method to display the student's details."
   ]
  },
  {
   "cell_type": "code",
   "execution_count": 3,
   "id": "1c6e3d39",
   "metadata": {},
   "outputs": [
    {
     "name": "stdout",
     "output_type": "stream",
     "text": [
      "Name: Rahul\n",
      "Roll Number: 101\n",
      "Marks: 85\n"
     ]
    }
   ],
   "source": [
    "#concept of class and object\n",
    "class Student:\n",
    "    def __init__(self, name, roll_number, marks):\n",
    "        self.name = name\n",
    "        self.roll_number = roll_number\n",
    "        self.marks = marks\n",
    "\n",
    "    def display_info(self):\n",
    "        print(\"Name:\", self.name)\n",
    "        print(\"Roll Number:\", self.roll_number)\n",
    "        print(\"Marks:\", self.marks)\n",
    "\n",
    "\n",
    "s1 = Student(\"Rahul\", 101, 85)\n",
    "s1.display_info()"
   ]
  },
  {
   "cell_type": "markdown",
   "id": "2ab32b1a",
   "metadata": {},
   "source": [
    "2. Create a base class `Animal` with a method `speak()` that prints __\"Animal makes a sound\"__. Derive a class `Dod` from `Animal` and override the `speak()` method to print __\"Dog barks\"__. Instantiate the `Dog` class and call its `speak()` method."
   ]
  },
  {
   "cell_type": "code",
   "execution_count": 4,
   "id": "ff39d976",
   "metadata": {},
   "outputs": [
    {
     "name": "stdout",
     "output_type": "stream",
     "text": [
      "Dog barks\n"
     ]
    }
   ],
   "source": [
    "#inheritance and method overriding\n",
    "class Animal:\n",
    "    def speak(self):\n",
    "        print(\"Animal makes a sound\")\n",
    "\n",
    "class Dog(Animal):\n",
    "    def speak(self):\n",
    "        print(\"Dog barks\")\n",
    "\n",
    "d = Dog()\n",
    "d.speak()"
   ]
  },
  {
   "cell_type": "markdown",
   "id": "8972907d",
   "metadata": {},
   "source": [
    "3. Define a class `BankAccount` with private attributes account_number and balance. Implement methods to deposit and withdraw money, ensuring that the balance cannot go below zero. Provide a method to get the account details. Test the class by performing deposit and withdrawal operations."
   ]
  },
  {
   "cell_type": "code",
   "execution_count": 5,
   "id": "fbd22a32",
   "metadata": {},
   "outputs": [
    {
     "name": "stdout",
     "output_type": "stream",
     "text": [
      "Deposited: 200\n",
      "Withdrawn: 100\n",
      "Insufficient balance!\n",
      "Account Number: 12345\n",
      "Balance: 600\n"
     ]
    }
   ],
   "source": [
    "#Encapsulation (private attributes)\n",
    "class BankAccount:\n",
    "    def __init__(self, account_number, balance=0):\n",
    "        self.__account_number = account_number\n",
    "        self.__balance = balance\n",
    "\n",
    "    def deposit(self, amount):\n",
    "        self.__balance += amount\n",
    "        print(\"Deposited:\", amount)\n",
    "\n",
    "    def withdraw(self, amount):\n",
    "        if amount <= self.__balance:\n",
    "            self.__balance -= amount\n",
    "            print(\"Withdrawn:\", amount)\n",
    "        else:\n",
    "            print(\"Insufficient balance!\")\n",
    "\n",
    "    def get_account_details(self):\n",
    "        print(\"Account Number:\", self.__account_number)\n",
    "        print(\"Balance:\", self.__balance)\n",
    "\n",
    "acc = BankAccount(12345, 500)\n",
    "acc.deposit(200)\n",
    "acc.withdraw(100)\n",
    "acc.withdraw(700)\n",
    "acc.get_account_details()"
   ]
  },
  {
   "cell_type": "markdown",
   "id": "b7ae91ba",
   "metadata": {},
   "source": [
    "4. Create a base class __Shape__ with a method __area()__. Derive two classes __Rectangle__ and __Circle__ from __Shape__. Implement the __area()__ method in both derived classes. Instantiate __Rectangle__ and __Circle__, and demonstrate polymorphism by calling their __area()__ method."
   ]
  },
  {
   "cell_type": "code",
   "execution_count": 6,
   "id": "0fd432be",
   "metadata": {},
   "outputs": [
    {
     "name": "stdout",
     "output_type": "stream",
     "text": [
      "Area: 20\n",
      "Area: 28.274333882308138\n"
     ]
    }
   ],
   "source": [
    "#Polymorphism [area() in shapes]\n",
    "import math\n",
    "\n",
    "class Shape:\n",
    "    def area(self):\n",
    "        pass\n",
    "\n",
    "class Rectangle(Shape):\n",
    "    def __init__(self, length, width):\n",
    "        self.length = length\n",
    "        self.width = width\n",
    "\n",
    "    def area(self):\n",
    "        return self.length * self.width\n",
    "\n",
    "class Circle(Shape):\n",
    "    def __init__(self, radius):\n",
    "        self.radius = radius\n",
    "\n",
    "    def area(self):\n",
    "        return math.pi * self.radius * self.radius\n",
    "\n",
    "shapes = [Rectangle(4, 5), Circle(3)]\n",
    "for s in shapes:\n",
    "    print(\"Area:\", s.area())"
   ]
  },
  {
   "cell_type": "markdown",
   "id": "f860f933",
   "metadata": {},
   "source": [
    "5. Define a class __Person__ with attributes name and age. Derive a class __Employee__ from __Person__ with additional attributes employee_id and salary. Implement a method display_employee() in Employee that prints all the details. Create an instance of __Employee__ and display the information."
   ]
  },
  {
   "cell_type": "code",
   "execution_count": 7,
   "id": "c36a801c",
   "metadata": {},
   "outputs": [
    {
     "name": "stdout",
     "output_type": "stream",
     "text": [
      "Name: Ankit\n",
      "Age: 25\n",
      "Employee ID: E101\n",
      "Salary: 50000\n"
     ]
    }
   ],
   "source": [
    "#inheritance with additional attributes\n",
    "class Person:\n",
    "    def __init__(self, name, age):\n",
    "        self.name = name\n",
    "        self.age = age\n",
    "\n",
    "class Employee(Person):\n",
    "    def __init__(self, name, age, employee_id, salary):\n",
    "        super().__init__(name, age)\n",
    "        self.employee_id = employee_id\n",
    "        self.salary = salary\n",
    "\n",
    "    def display_employee(self):\n",
    "        print(\"Name:\", self.name)\n",
    "        print(\"Age:\", self.age)\n",
    "        print(\"Employee ID:\", self.employee_id)\n",
    "        print(\"Salary:\", self.salary)\n",
    "\n",
    "emp = Employee(\"Ankit\", 25, \"E101\", 50000)\n",
    "emp.display_employee()"
   ]
  },
  {
   "cell_type": "markdown",
   "id": "985d70ae",
   "metadata": {},
   "source": [
    "6. Define a class __Vector__ with attributes x and y. Overload the operator to add two Vector objects. Implement the `__add___()` method and test it by adding two Vector instances."
   ]
  },
  {
   "cell_type": "code",
   "execution_count": 8,
   "id": "d8395359",
   "metadata": {},
   "outputs": [
    {
     "name": "stdout",
     "output_type": "stream",
     "text": [
      "(6, 8)\n"
     ]
    }
   ],
   "source": [
    "#operator overloading\n",
    "class Vector:\n",
    "    def __init__(self, x, y):\n",
    "        self.x = x\n",
    "        self.y = y\n",
    "\n",
    "    def __add__(self, other):\n",
    "        return Vector(self.x + other.x, self.y + other.y)\n",
    "\n",
    "    def __str__(self):\n",
    "        return f\"({self.x}, {self.y})\"\n",
    "\n",
    "v1 = Vector(2, 3)\n",
    "v2 = Vector(4, 5)\n",
    "v3 = v1 + v2\n",
    "print(v3)"
   ]
  },
  {
   "cell_type": "markdown",
   "id": "0afee7b0",
   "metadata": {},
   "source": [
    "7. Create a class __Book__ with attributes title and author. Overload the `__str__()` method to return a string representation of the __Book__ object in the format __\"Title by Author\"__. Test this method by printing a __Book__ instance."
   ]
  },
  {
   "cell_type": "code",
   "execution_count": 9,
   "id": "a50d721c",
   "metadata": {},
   "outputs": [
    {
     "name": "stdout",
     "output_type": "stream",
     "text": [
      "Python Basics by John Doe\n"
     ]
    }
   ],
   "source": [
    "#String Representation [__str__()]\n",
    "class Book:\n",
    "    def __init__(self, title, author):\n",
    "        self.title = title\n",
    "        self.author = author\n",
    "\n",
    "    def __str__(self):\n",
    "        return f\"{self.title} by {self.author}\"\n",
    "\n",
    "b1 = Book(\"Python Basics\", \"John Doe\")\n",
    "print(b1)"
   ]
  },
  {
   "cell_type": "markdown",
   "id": "8aee8e17",
   "metadata": {},
   "source": [
    "8. Define a class __Time__ with attributes hours, minutes, and seconds. Overload the == operator to compare two __Time__ objects for equality. Implement the `__eq__()` method and test it by comparing two time instances."
   ]
  },
  {
   "cell_type": "code",
   "execution_count": 10,
   "id": "117accb5",
   "metadata": {},
   "outputs": [
    {
     "name": "stdout",
     "output_type": "stream",
     "text": [
      "True\n",
      "False\n"
     ]
    }
   ],
   "source": [
    "#operator overloading (== for Time)\n",
    "class Time:\n",
    "    def __init__(self, hours, minutes, seconds):\n",
    "        self.hours = hours\n",
    "        self.minutes = minutes\n",
    "        self.seconds = seconds\n",
    "\n",
    "    def __eq__(self, other):\n",
    "        return (self.hours == other.hours and\n",
    "                self.minutes == other.minutes and\n",
    "                self.seconds == other.seconds)\n",
    "\n",
    "t1 = Time(10, 30, 45)\n",
    "t2 = Time(10, 30, 45)\n",
    "t3 = Time(12, 0, 0)\n",
    "\n",
    "print(t1 == t2)  # True\n",
    "print(t1 == t3)  # False"
   ]
  },
  {
   "cell_type": "markdown",
   "id": "f3eb3ad6",
   "metadata": {},
   "source": [
    "9. Define a class __Person__ with attributes name and age. Define another class __Address__ with attributes street, city, and zipcode. Create a __Contact__ class that contains an instance of __Person__ and __Address__. Implement methods to dosplay the contact details. Create a __Contact__ object and display its information."
   ]
  },
  {
   "cell_type": "code",
   "execution_count": 11,
   "id": "d86217b9",
   "metadata": {},
   "outputs": [
    {
     "name": "stdout",
     "output_type": "stream",
     "text": [
      "Name: Ramesh\n",
      "Age: 30\n",
      "Street: MG Road\n",
      "City: Delhi\n",
      "Zipcode: 110001\n"
     ]
    }
   ],
   "source": [
    "#Composition (Class inside Class)\n",
    "class Person:\n",
    "    def __init__(self, name, age):\n",
    "        self.name = name\n",
    "        self.age = age\n",
    "\n",
    "class Address:\n",
    "    def __init__(self, street, city, zipcode):\n",
    "        self.street = street\n",
    "        self.city = city\n",
    "        self.zipcode = zipcode\n",
    "\n",
    "class Contact:\n",
    "    def __init__(self, person, address):\n",
    "        self.person = person\n",
    "        self.address = address\n",
    "\n",
    "    def display_contact(self):\n",
    "        print(\"Name:\", self.person.name)\n",
    "        print(\"Age:\", self.person.age)\n",
    "        print(\"Street:\", self.address.street)\n",
    "        print(\"City:\", self.address.city)\n",
    "        print(\"Zipcode:\", self.address.zipcode)\n",
    "\n",
    "p = Person(\"Ramesh\", 30)\n",
    "a = Address(\"MG Road\", \"Delhi\", \"110001\")\n",
    "c = Contact(p, a)\n",
    "c.display_contact()"
   ]
  }
 ],
 "metadata": {
  "kernelspec": {
   "display_name": "Myvenv",
   "language": "python",
   "name": "python3"
  },
  "language_info": {
   "codemirror_mode": {
    "name": "ipython",
    "version": 3
   },
   "file_extension": ".py",
   "mimetype": "text/x-python",
   "name": "python",
   "nbconvert_exporter": "python",
   "pygments_lexer": "ipython3",
   "version": "3.12.3"
  }
 },
 "nbformat": 4,
 "nbformat_minor": 5
}

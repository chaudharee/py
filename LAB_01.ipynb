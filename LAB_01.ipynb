{
 "cells": [
  {
   "cell_type": "markdown",
   "id": "aea9b862",
   "metadata": {},
   "source": [
    "# LAB PROGRAMS"
   ]
  },
  {
   "cell_type": "markdown",
   "id": "c02acc94",
   "metadata": {},
   "source": [
    "### I. Data Structures"
   ]
  },
  {
   "cell_type": "markdown",
   "id": "71f7fcd3",
   "metadata": {},
   "source": [
    "1. Write a Python program to remove all duplicates from a list and print the unique elements."
   ]
  },
  {
   "cell_type": "markdown",
   "id": "c6fc529e",
   "metadata": {},
   "source": [
    "`METHOD_1:` Just converting the old list into a new list."
   ]
  },
  {
   "cell_type": "code",
   "execution_count": 28,
   "id": "1606239f",
   "metadata": {},
   "outputs": [
    {
     "name": "stdout",
     "output_type": "stream",
     "text": [
      "[1, 2]\n"
     ]
    }
   ],
   "source": [
    "old_list = [1, 2, 1, 2, 2]\n",
    "new_list = list(set(old_list))\n",
    "\n",
    "print(new_list)"
   ]
  },
  {
   "cell_type": "markdown",
   "id": "f965b517",
   "metadata": {},
   "source": [
    "`METHOD_2`: Just append the items to the new list that are not in the old list."
   ]
  },
  {
   "cell_type": "code",
   "execution_count": 29,
   "id": "4fca5eea",
   "metadata": {},
   "outputs": [
    {
     "name": "stdout",
     "output_type": "stream",
     "text": [
      "[1, 2]\n"
     ]
    }
   ],
   "source": [
    "old_list = [1, 2, 1, 1, 1, 2]\n",
    "new_list = []\n",
    "for items in old_list:\n",
    "    if items not in new_list:\n",
    "        new_list.append(items)\n",
    "\n",
    "print(new_list)"
   ]
  },
  {
   "cell_type": "markdown",
   "id": "905a245d",
   "metadata": {},
   "source": [
    "2. Create a tuple of 10 integers. Write a program to display the maximum and minimum numbers from the tuple."
   ]
  },
  {
   "cell_type": "markdown",
   "id": "d2d4f985",
   "metadata": {},
   "source": [
    "- making a reference `maximum` to the first element `a_tuple[0]`.\n",
    "- comparing with all the `item`. If it found `item` greater than `maximum`, that `item` will be updated to new `maximum`. "
   ]
  },
  {
   "cell_type": "code",
   "execution_count": 30,
   "id": "ac77ffd5",
   "metadata": {},
   "outputs": [
    {
     "name": "stdout",
     "output_type": "stream",
     "text": [
      "The list of 10 random numbers is: [25, 39, 36, 68, 72, 24, 80, 59, 40, 69]\n",
      "The maximum number is 80.\n",
      "The minimum number is 24.\n"
     ]
    }
   ],
   "source": [
    "import random as r\n",
    "\n",
    "list_of_random_numbers = []\n",
    "for i in range(10):\n",
    "    list_of_random_numbers.append(r.randint(1, 100))\n",
    "\n",
    "a_tuple = tuple(list_of_random_numbers)\n",
    "print(f\"The list of 10 random numbers is: {list_of_random_numbers}\")\n",
    "\n",
    "maximum = a_tuple[0]\n",
    "minimum = a_tuple[0]\n",
    "\n",
    "for item in a_tuple:\n",
    "    if item > maximum:\n",
    "        maximum = item\n",
    "    if item < minimum:\n",
    "        minimum = item\n",
    "        \n",
    "print(f\"The maximum number is {maximum}.\")\n",
    "print(f\"The minimum number is {minimum}.\")"
   ]
  },
  {
   "cell_type": "markdown",
   "id": "d0b064c1",
   "metadata": {},
   "source": [
    "#### OR"
   ]
  },
  {
   "cell_type": "code",
   "execution_count": 31,
   "id": "3e821e0d",
   "metadata": {},
   "outputs": [
    {
     "name": "stdout",
     "output_type": "stream",
     "text": [
      "The list of 10 random numbers is: [84, 12, 60, 48, 15, 43, 63, 93, 10, 90]\n",
      "The maximum number is 93.\n",
      "The minimum number is 10.\n"
     ]
    }
   ],
   "source": [
    "import random as r\n",
    "\n",
    "list_of_random_numbers = []\n",
    "for i in range(10):\n",
    "    list_of_random_numbers.append(r.randint(1, 100))\n",
    "\n",
    "a_tuple = tuple(list_of_random_numbers)\n",
    "print(f\"The list of 10 random numbers is: {list_of_random_numbers}\")\n",
    "\n",
    "\n",
    "print(f\"The maximum number is {max(a_tuple)}.\")\n",
    "print(f\"The minimum number is {min(a_tuple)}.\")"
   ]
  },
  {
   "cell_type": "markdown",
   "id": "73381111",
   "metadata": {},
   "source": [
    "3. Write a Python function that accepts a list and returns a new list with only the even numbers from the original list."
   ]
  },
  {
   "cell_type": "code",
   "execution_count": 32,
   "id": "6e852c64",
   "metadata": {},
   "outputs": [
    {
     "name": "stdout",
     "output_type": "stream",
     "text": [
      "The list of 10 random numbers is: [86, 5, 65, 20, 2, 84, 66, 10, 12, 18]\n",
      "The list of even numbers is: [86, 20, 2, 84, 66, 10, 12, 18]\n"
     ]
    }
   ],
   "source": [
    "import random as r\n",
    "list_of_random_numbers = []\n",
    "for i in range(10):\n",
    "    list_of_random_numbers.append(r.randint(1, 101))\n",
    "\n",
    "print(f\"The list of 10 random numbers is: {list_of_random_numbers}\")\n",
    "even_list = []\n",
    "\n",
    "for num in list_of_random_numbers:\n",
    "    if(num % 2 == 0):\n",
    "        even_list.append(num)\n",
    "print(f\"The list of even numbers is: {even_list}\")"
   ]
  },
  {
   "cell_type": "markdown",
   "id": "ace11547",
   "metadata": {},
   "source": [
    "4. Write a program to count the number of each character in a given string using a dictionary."
   ]
  },
  {
   "cell_type": "markdown",
   "id": "8bbdb7e8",
   "metadata": {},
   "source": [
    "`METHOD_1`:"
   ]
  },
  {
   "cell_type": "code",
   "execution_count": 33,
   "id": "16d79434",
   "metadata": {},
   "outputs": [
    {
     "name": "stdout",
     "output_type": "stream",
     "text": [
      "You have entered: aaaabbbccd.\n",
      "\n",
      "Character Frequency:\n",
      "'a' : 4\n",
      "'b' : 3\n",
      "'c' : 2\n",
      "'d' : 1\n"
     ]
    }
   ],
   "source": [
    "a_string = input(\"Enter a string to analyzd: \")\n",
    "print(f\"You have entered: {a_string}.\")\n",
    "char_count = {}\n",
    "\n",
    "for char in a_string:\n",
    "    if char in char_count:\n",
    "        char_count[char] += 1\n",
    "    else:\n",
    "        char_count[char] = 1\n",
    "\n",
    "print(\"\\nCharacter Frequency:\")\n",
    "for char, count in char_count.items():\n",
    "    print(f\"'{char}' : {count}\")"
   ]
  },
  {
   "cell_type": "markdown",
   "id": "d40fe132",
   "metadata": {},
   "source": [
    "`METHOD_2`:"
   ]
  },
  {
   "cell_type": "code",
   "execution_count": 34,
   "id": "76d34b0b",
   "metadata": {},
   "outputs": [
    {
     "name": "stdout",
     "output_type": "stream",
     "text": [
      "You have entered: aaaabbbccd.\n",
      "Character Frequencey: {'c': 2, 'b': 3, 'd': 1, 'a': 4}\n"
     ]
    }
   ],
   "source": [
    "a_string = input(\"Enter a sample string.\")\n",
    "print(f\"You have entered: {a_string}.\")\n",
    "\n",
    "unique_character = set(a_string)\n",
    "dic = {}\n",
    "\n",
    "for char in unique_character:\n",
    "    dic[char] = a_string.count(char)\n",
    "\n",
    "print(f\"Character Frequencey: {dic}\")"
   ]
  },
  {
   "cell_type": "markdown",
   "id": "c46c87bd",
   "metadata": {},
   "source": [
    "`METHOD_3`:"
   ]
  },
  {
   "cell_type": "code",
   "execution_count": 35,
   "id": "972f4a96",
   "metadata": {},
   "outputs": [
    {
     "name": "stdout",
     "output_type": "stream",
     "text": [
      "You have entered: aaaabbbccd.\n",
      "Character frequencey: {'a': 4, 'b': 3, 'c': 2, 'd': 1}\n"
     ]
    }
   ],
   "source": [
    "a_string = input(\"Enter a sample string to be analyzed: \")\n",
    "print(f\"You have entered: {a_string}.\")\n",
    "\n",
    "dic = {}\n",
    "\n",
    "for char in a_string:\n",
    "    if char not in dic.keys():\n",
    "        dic[char] = a_string.count(char)\n",
    "\n",
    "print(f\"Character frequencey: {dic}\")"
   ]
  },
  {
   "cell_type": "markdown",
   "id": "d1ae4d0f",
   "metadata": {},
   "source": [
    "5. Create a set of prime numbers less than 50. Write a program to check whether a given number exists in the set or not."
   ]
  },
  {
   "cell_type": "code",
   "execution_count": 36,
   "id": "a9900b48",
   "metadata": {},
   "outputs": [
    {
     "name": "stdout",
     "output_type": "stream",
     "text": [
      "You have entered: 3.\n",
      "And 3 is a prime number.\n"
     ]
    }
   ],
   "source": [
    "list_of_prime = []\n",
    "\n",
    "for num in range(1, 51):\n",
    "    count = 0\n",
    "    for i in range(1, num+1):\n",
    "        if(num % i == 0):\n",
    "            count += 1\n",
    "    if count == 2:\n",
    "        list_of_prime.append(num)\n",
    "set_of_prime = set(list_of_prime)\n",
    "\n",
    "number_to_check = int(input(\"Enter a number to check if it is in the set.\"))\n",
    "print(f\"You have entered: {number_to_check}.\")\n",
    "if number_to_check in set_of_prime:\n",
    "    print(f\"And {number_to_check} is a prime number.\")\n",
    "else:\n",
    "    print(f\"And {number_to_check} is not a prime number.\")"
   ]
  },
  {
   "cell_type": "markdown",
   "id": "0d8be420",
   "metadata": {},
   "source": [
    "6. Given two lists, write a program to find the intersection using sets."
   ]
  },
  {
   "cell_type": "code",
   "execution_count": 37,
   "id": "e5699587",
   "metadata": {},
   "outputs": [
    {
     "name": "stdout",
     "output_type": "stream",
     "text": [
      "[2, 4, 6, 8]\n"
     ]
    }
   ],
   "source": [
    "list1 = [1, 2, 3, 4, 5, 6, 7, 8, 9]\n",
    "list2 = [2, 4, 6, 8, 10]\n",
    "set1 = set(list1)\n",
    "set2 = set(list2)\n",
    "common_elements = set1.intersection(set2) #also \n",
    "# common_elements = set1 & set2\n",
    "\n",
    "result = list(common_elements)\n",
    "print(sorted(result))"
   ]
  },
  {
   "cell_type": "markdown",
   "id": "5dd6ef97",
   "metadata": {},
   "source": [
    "7. Write a Pythin program to merge two dictionaries and sum the values of common keys."
   ]
  },
  {
   "cell_type": "code",
   "execution_count": 38,
   "id": "b540d240",
   "metadata": {},
   "outputs": [
    {
     "name": "stdout",
     "output_type": "stream",
     "text": [
      "Merged dictionary with summed values: {'a': 10, 'b': 50, 'c': 70, 'd': 50}\n"
     ]
    }
   ],
   "source": [
    "# Two example dictionaries\n",
    "dict1 = {'a': 10, 'b': 20, 'c': 30}\n",
    "dict2 = {'b': 30, 'c': 40, 'd': 50}\n",
    "\n",
    "# Create a new dictionary to store the merged result\n",
    "merged_dict = {}\n",
    "\n",
    "# Add all keys from dict1\n",
    "for key in dict1:\n",
    "    merged_dict[key] = dict1[key]\n",
    "\n",
    "# Add keys from dict2, summing if key already exists\n",
    "for key in dict2:\n",
    "    if key in merged_dict:\n",
    "        merged_dict[key] += dict2[key]\n",
    "    else:\n",
    "        merged_dict[key] = dict2[key]\n",
    "\n",
    "print(\"Merged dictionary with summed values:\", merged_dict)"
   ]
  },
  {
   "cell_type": "markdown",
   "id": "e5e8e7a0",
   "metadata": {},
   "source": [
    "OR"
   ]
  },
  {
   "cell_type": "code",
   "execution_count": 39,
   "id": "3588aae1",
   "metadata": {},
   "outputs": [
    {
     "name": "stdout",
     "output_type": "stream",
     "text": [
      "{'b': 50, 'c': 70, 'd': 50, 'a': 10}\n",
      "a: 10\n",
      "b: 20\n",
      "c: 30\n"
     ]
    }
   ],
   "source": [
    "dict1 = {'a': 10, 'b': 20, 'c': 30}\n",
    "dict2 = {'b': 30, 'c': 40, 'd': 50}\n",
    "\n",
    "for key, value in dict1.items():\n",
    "    if key in dict2:\n",
    "        dict2[key] = dict2[key] + value\n",
    "    else:\n",
    "        dict2[key] = value\n",
    "print(dict2)\n",
    "\n",
    "for key, value in dict1.items():\n",
    "    print(f\"{key}: {value}\")"
   ]
  },
  {
   "cell_type": "markdown",
   "id": "dabdff58",
   "metadata": {},
   "source": [
    "8. Given a list of names, write a program to count how many times each name appears using a dictionary."
   ]
  },
  {
   "cell_type": "code",
   "execution_count": 40,
   "id": "5ea41924",
   "metadata": {},
   "outputs": [
    {
     "name": "stdout",
     "output_type": "stream",
     "text": [
      "Names count:\n",
      "abhinaya : 2\n",
      "manish : 2\n",
      "bhusal : 1\n",
      "mausham : 1\n"
     ]
    }
   ],
   "source": [
    "names = [\"abhinaya\", \"manish\", \"manish\", \"abhinaya\", \"bhusal\", \"mausham\"]\n",
    "dic_name = {}\n",
    "for items in names:\n",
    "    if items in dic_name:\n",
    "        dic_name[items] += 1\n",
    "    else:\n",
    "        dic_name[items] = 1\n",
    "\n",
    "\n",
    "print(\"Names count:\")\n",
    "for items, count in dic_name.items():\n",
    "    print(f\"{items} : {count}\")"
   ]
  },
  {
   "cell_type": "markdown",
   "id": "62b63d9f",
   "metadata": {},
   "source": [
    "OR"
   ]
  },
  {
   "cell_type": "code",
   "execution_count": 41,
   "id": "38df8e3f",
   "metadata": {},
   "outputs": [
    {
     "name": "stdout",
     "output_type": "stream",
     "text": [
      "Name Frequencey: {'abhinaya': 2, 'manish': 2, 'bhusal': 1, 'mausham': 1}\n"
     ]
    }
   ],
   "source": [
    "names = [\"abhinaya\", \"manish\", \"manish\", \"abhinaya\", \"bhusal\", \"mausham\"]\n",
    "dic_name = {}\n",
    "\n",
    "for name in names:\n",
    "    if name not in dic_name.keys():\n",
    "        dic_name[name] = names.count(name)\n",
    "\n",
    "print(f\"Name Frequencey: {dic_name}\")"
   ]
  },
  {
   "cell_type": "markdown",
   "id": "b4a70d5c",
   "metadata": {},
   "source": [
    "9. Write a Python program to remove elements from a list that are also present in another list."
   ]
  },
  {
   "cell_type": "code",
   "execution_count": 42,
   "id": "980fb8ce",
   "metadata": {},
   "outputs": [
    {
     "name": "stdout",
     "output_type": "stream",
     "text": [
      "The filtered list after removing the common from main list is [1, 3, 5, 7, 9, 10]\n"
     ]
    }
   ],
   "source": [
    "main_list = [1, 2, 3, 4, 5, 6, 7, 8, 9, 10]\n",
    "remove_list = [2, 4, 6, 8]\n",
    "\n",
    "main_set = set(main_list)\n",
    "remove_set = set(remove_list)\n",
    "\n",
    "filtered_set = main_set - remove_set\n",
    "\n",
    "filtered_list = list(filtered_set)\n",
    "\n",
    "print(\"The filtered list after removing the common from main list is\", filtered_list)"
   ]
  },
  {
   "cell_type": "markdown",
   "id": "cfba1ca8",
   "metadata": {},
   "source": [
    "10. Write a program to input key-value pairs from the user and store them in a dictionary. Allow the user to search for a key and display its value."
   ]
  },
  {
   "cell_type": "code",
   "execution_count": 43,
   "id": "7be59384",
   "metadata": {},
   "outputs": [
    {
     "name": "stdout",
     "output_type": "stream",
     "text": [
      "\n",
      "Here is your dictionary:\n",
      "{'Name': 'Abhinaya', 'Roll No.': '081bel043', 'Level': 'Bachelor', 'Department': 'Electrical Engineering', 'Year': 'I/II'}\n",
      "The value for Name is: Abhinaya\n"
     ]
    }
   ],
   "source": [
    "# Step 1: Create an empty dictionary\n",
    "my_dict = {}\n",
    "\n",
    "# Step 2: Ask how many key-value pairs the user wants to enter\n",
    "n = int(input(\"How many items do you want to add? \"))\n",
    "\n",
    "# Step 3: Loop to add each key-value pair\n",
    "for i in range(n):\n",
    "    key = input(\"Enter key (like a word): \")\n",
    "    value = input(\"Enter value (like the meaning): \")\n",
    "    my_dict[key] = value  # Save it in the dictionary\n",
    "\n",
    "print(\"\\nHere is your dictionary:\")\n",
    "print(my_dict)\n",
    "\n",
    "# Step 4: Search for a key\n",
    "search_key = input(\"\\nEnter a key to search for its value: \")\n",
    "\n",
    "# Step 5: Show the value if the key is found\n",
    "if search_key in my_dict:\n",
    "    print(\"The value for\", search_key, \"is:\", my_dict[search_key])\n",
    "else:\n",
    "    print(\"Sorry! That key was not found.\")\n"
   ]
  },
  {
   "cell_type": "markdown",
   "id": "3736955b",
   "metadata": {},
   "source": [
    "### Conditions and Loop"
   ]
  },
  {
   "cell_type": "markdown",
   "id": "49cadeaf",
   "metadata": {},
   "source": [
    "1. Write a program to check whether a given number is prime or not."
   ]
  },
  {
   "cell_type": "code",
   "execution_count": 44,
   "id": "9ac78733",
   "metadata": {},
   "outputs": [
    {
     "name": "stdout",
     "output_type": "stream",
     "text": [
      "47 is a prime.\n"
     ]
    }
   ],
   "source": [
    "number = int(input(\"Enter a number to check if it's prime: \"))\n",
    "count = 0\n",
    "for i in range(1, number+1):\n",
    "    if number % i == 0:\n",
    "        count += 1\n",
    "if count == 2:\n",
    "    print(f\"{number} is a prime.\")\n",
    "else:\n",
    "    print(f\"{number} is not a prime.\")"
   ]
  },
  {
   "cell_type": "markdown",
   "id": "4d19bf90",
   "metadata": {},
   "source": [
    "2. Write a program to print all the even numbers between 1 and 100 using a loop."
   ]
  },
  {
   "cell_type": "code",
   "execution_count": 45,
   "id": "467d308e",
   "metadata": {},
   "outputs": [
    {
     "name": "stdout",
     "output_type": "stream",
     "text": [
      "2 4 6 8 10 12 14 16 18 20 22 24 26 28 30 32 34 36 38 40 42 44 46 48 50 52 54 56 58 60 62 64 66 68 70 72 74 76 78 80 82 84 86 88 90 92 94 96 98 100 "
     ]
    }
   ],
   "source": [
    "for i in range(2, 101, 2):\n",
    "    print(i, end=' ')"
   ]
  },
  {
   "cell_type": "markdown",
   "id": "6148babe",
   "metadata": {},
   "source": [
    "3. Write a program that reads a number and prints the factorial of that number using a `while` loop."
   ]
  },
  {
   "cell_type": "code",
   "execution_count": 46,
   "id": "1a95780a",
   "metadata": {},
   "outputs": [
    {
     "name": "stdout",
     "output_type": "stream",
     "text": [
      "You have entered: 4\n",
      "The factorial 1! of the number is 24.\n"
     ]
    }
   ],
   "source": [
    "number = int(input(\"Enter a number to find its factorial: \"))\n",
    "print(f\"You have entered: {number}\")\n",
    "factorial = 1\n",
    "\n",
    "while number > 1:\n",
    "    factorial *= number\n",
    "    number -= 1         \n",
    "\n",
    "print(f\"The factorial {number}! of the number is {factorial}.\")"
   ]
  },
  {
   "cell_type": "markdown",
   "id": "1d901eef",
   "metadata": {},
   "source": [
    "4. Write a program to print the multiplication table of a given number using a `for` loop."
   ]
  },
  {
   "cell_type": "code",
   "execution_count": 47,
   "id": "4d7c6278",
   "metadata": {},
   "outputs": [
    {
     "name": "stdout",
     "output_type": "stream",
     "text": [
      "The multiplication table of 19 is given below.\n",
      "19 * 1 = 19\n",
      "19 * 2 = 38\n",
      "19 * 3 = 57\n",
      "19 * 4 = 76\n",
      "19 * 5 = 95\n",
      "19 * 6 = 114\n",
      "19 * 7 = 133\n",
      "19 * 8 = 152\n",
      "19 * 9 = 171\n",
      "19 * 10 = 190\n"
     ]
    }
   ],
   "source": [
    "number = int(input(\"Enter a number: \"))\n",
    "print(f\"The multiplication table of {number} is given below.\")\n",
    "\n",
    "for i in range(1, 11):\n",
    "    print(f\"{number} * {i} = {number * i}\")\n"
   ]
  },
  {
   "cell_type": "markdown",
   "id": "fc1bc54e",
   "metadata": {},
   "source": [
    "5. Write a program to find the largest and smallest number in a list entered by the user."
   ]
  },
  {
   "cell_type": "code",
   "execution_count": 48,
   "id": "54482081",
   "metadata": {},
   "outputs": [
    {
     "name": "stdout",
     "output_type": "stream",
     "text": [
      "The list of 7 number is: [1234, 312, 4532, 1, 23, 43, 123].\n",
      "The maximum number of the list is: 4532\n",
      "The minimum number of the list is: 1\n"
     ]
    }
   ],
   "source": [
    "list_of_number = []\n",
    "\n",
    "how_many_numbers = int(input(\"Enter how many numbers are there in the list: \"))\n",
    "for i in range(how_many_numbers):\n",
    "    num = int(input(f\"Enter number {i+1}: \"))\n",
    "    list_of_number.append(num)\n",
    "\n",
    "print(f\"The list of {how_many_numbers} number is: {list_of_number}.\")\n",
    "\n",
    "print(f\"The maximum number of the list is: {max(list_of_number)}\")\n",
    "print(f\"The minimum number of the list is: {min(list_of_number)}\")\n"
   ]
  },
  {
   "cell_type": "markdown",
   "id": "26bf902c",
   "metadata": {},
   "source": [
    "6. Write a program that accepts 10 integers from the user and counts how many are positive, negative, and zero."
   ]
  },
  {
   "cell_type": "code",
   "execution_count": 49,
   "id": "855a01c7",
   "metadata": {},
   "outputs": [
    {
     "name": "stdout",
     "output_type": "stream",
     "text": [
      "Enter 10 integers:\n",
      "\n",
      "Count of Positive numbers: 3\n",
      "Count of Negative numbers: 4\n",
      "Count of Zeros: 3\n"
     ]
    }
   ],
   "source": [
    "positive = 0\n",
    "negative = 0\n",
    "zero = 0\n",
    "\n",
    "print(\"Enter 10 integers:\")\n",
    "\n",
    "for i in range(10):\n",
    "    num = int(input(f\"Number {i+1}: \"))\n",
    "\n",
    "    if num > 0:\n",
    "        positive += 1\n",
    "    elif num < 0:\n",
    "        negative += 1\n",
    "    elif num == 0:\n",
    "        zero += 1\n",
    "    else:\n",
    "        print(\"Invalid input!\")\n",
    "\n",
    "print(f\"\\nCount of Positive numbers: {positive}\")\n",
    "print(f\"Count of Negative numbers: {negative}\")\n",
    "print(f\"Count of Zeros: {zero}\")\n"
   ]
  },
  {
   "cell_type": "markdown",
   "id": "038ca6f8",
   "metadata": {},
   "source": [
    "7. Write a program to generate the Fibonacci sequence up to n terms."
   ]
  },
  {
   "cell_type": "code",
   "execution_count": 50,
   "id": "5c4787a8",
   "metadata": {},
   "outputs": [
    {
     "name": "stdout",
     "output_type": "stream",
     "text": [
      "0 1 1 2 3 5 8 13 21 "
     ]
    }
   ],
   "source": [
    "n = int(input(\"How many Fibonacci numbers do you want?\"))\n",
    "\n",
    "a, b = 0, 1\n",
    "count = 1\n",
    "\n",
    "if n <= 0:\n",
    "    print(\"Please, enter a positive integer.\")\n",
    "elif n == 1:\n",
    "    print(a)\n",
    "else:\n",
    "    while count < n:\n",
    "        print(a, end=\" \")\n",
    "        c = a + b\n",
    "        a = b\n",
    "        b = c\n",
    "        count += 1"
   ]
  },
  {
   "cell_type": "markdown",
   "id": "95d3cef2",
   "metadata": {},
   "source": [
    "OR"
   ]
  },
  {
   "cell_type": "code",
   "execution_count": 51,
   "id": "b0d6dd01",
   "metadata": {},
   "outputs": [
    {
     "name": "stdout",
     "output_type": "stream",
     "text": [
      "[0, 1, 1, 2, 3, 5, 8, 13, 21, 34]\n"
     ]
    }
   ],
   "source": [
    "#just use a list\n",
    "n = int(input(\"Enter number of terms: \"))\n",
    "fibonacci = [0, 1]\n",
    "\n",
    "for i in range(2, n):\n",
    "    fibonacci.append(fibonacci[i-1] + fibonacci[i-2])\n",
    "\n",
    "print(fibonacci[:n])"
   ]
  },
  {
   "cell_type": "markdown",
   "id": "4f4da250",
   "metadata": {},
   "source": [
    "8. Write a program that reads a number and prints whether it is a palindrome or not."
   ]
  },
  {
   "cell_type": "code",
   "execution_count": 52,
   "id": "b028cd1c",
   "metadata": {},
   "outputs": [
    {
     "name": "stdout",
     "output_type": "stream",
     "text": [
      "Is palindrome.\n"
     ]
    }
   ],
   "source": [
    "num = int(input(\"Enter a number to check whether it is a Palindrome or not : \"))\n",
    "originalNumber = num\n",
    "sumOfNumber = 0\n",
    "\n",
    "while num != 0:\n",
    "    digit = num % 10\n",
    "    sumOfNumber = sumOfNumber * 10 + digit\n",
    "    num //= 10\n",
    "\n",
    "if(originalNumber == sumOfNumber):\n",
    "    print(\"Is palindrome.\")\n",
    "else:\n",
    "    print(\"Just an ordinary number.\")"
   ]
  },
  {
   "cell_type": "markdown",
   "id": "f4fc8622",
   "metadata": {},
   "source": [
    "OR"
   ]
  },
  {
   "cell_type": "code",
   "execution_count": 53,
   "id": "86769bf3",
   "metadata": {},
   "outputs": [
    {
     "name": "stdout",
     "output_type": "stream",
     "text": [
      "121 is Palindrome.\n"
     ]
    }
   ],
   "source": [
    "num = input(\"Enter a number to check whether it is a Palindrome or not : \")\n",
    "reverse_of_num = num[::-1]\n",
    "\n",
    "print(f\"{num} is Palindrome.\" if reverse_of_num == num else f\"{num} is not Palindrome.\")"
   ]
  },
  {
   "cell_type": "markdown",
   "id": "70844cfe",
   "metadata": {},
   "source": [
    "9. Write a program that finds all numbers between 100 and 999 where the sum of the cubes of the digits equals the number itself. (Armstrong Number)"
   ]
  },
  {
   "cell_type": "code",
   "execution_count": 54,
   "id": "f0d7f7e4",
   "metadata": {},
   "outputs": [
    {
     "name": "stdout",
     "output_type": "stream",
     "text": [
      "Armdtrong Numbers between 100 and 999.\n",
      "153 370 371 407 "
     ]
    }
   ],
   "source": [
    "print(\"Armdtrong Numbers between 100 and 999.\")\n",
    "\n",
    "for num in range(100, 1000):\n",
    "    digit1 = num // 100 #Hundreds digit\n",
    "    digit2 = (num // 10) % 10 #Tens digit\n",
    "    digit3 = num % 10 #Ones digit\n",
    "\n",
    "    sum_of_cubes = digit1**3 + digit2**3 + digit3**3\n",
    "\n",
    "    if sum_of_cubes == num:\n",
    "        print(num, end = \" \")"
   ]
  },
  {
   "cell_type": "markdown",
   "id": "65de3e22",
   "metadata": {},
   "source": [
    "10. Write a menu-driven program to perform arithmetic operations (+, -, *, /) based on user choice using conditional statements."
   ]
  },
  {
   "cell_type": "code",
   "execution_count": 55,
   "id": "26c210ec",
   "metadata": {},
   "outputs": [
    {
     "name": "stdout",
     "output_type": "stream",
     "text": [
      "Welcome to the Simple Calculator!\n",
      "Choose an operation:\n",
      "1. Addition (+)\n",
      "2. Subtraction (-)\n",
      "3. Multiplication (*)\n",
      "4. Division (/)\n",
      "Result: 1200.0\n"
     ]
    }
   ],
   "source": [
    "print(\"Welcome to the Simple Calculator!\")\n",
    "print(\"Choose an operation:\")\n",
    "print(\"1. Addition (+)\")\n",
    "print(\"2. Subtraction (-)\")\n",
    "print(\"3. Multiplication (*)\")\n",
    "print(\"4. Division (/)\")\n",
    "\n",
    "# Ask user to choose an option\n",
    "choice = input(\"Enter your choice (1/2/3/4): \")\n",
    "\n",
    "# Ask for two numbers to do the calculation\n",
    "num1 = float(input(\"Enter the first number: \"))\n",
    "num2 = float(input(\"Enter the second number: \"))\n",
    "\n",
    "# Use if statements to do the correct operation\n",
    "if choice == '1':\n",
    "    result = num1 + num2\n",
    "    print(\"Result:\", result)\n",
    "elif choice == '2':\n",
    "    result = num1 - num2\n",
    "    print(\"Result:\", result)\n",
    "elif choice == '3':\n",
    "    result = num1 * num2\n",
    "    print(\"Result:\", result)\n",
    "elif choice == '4':\n",
    "    if num2 != 0:\n",
    "        result = num1 / num2\n",
    "        print(\"Result:\", result)\n",
    "    else:\n",
    "        print(\"Error! Cannot divide by zero.\")\n",
    "else:\n",
    "    print(\"Invalid choice! Please choose 1, 2, 3, or 4.\")"
   ]
  }
 ],
 "metadata": {
  "kernelspec": {
   "display_name": "Myvenv",
   "language": "python",
   "name": "python3"
  },
  "language_info": {
   "codemirror_mode": {
    "name": "ipython",
    "version": 3
   },
   "file_extension": ".py",
   "mimetype": "text/x-python",
   "name": "python",
   "nbconvert_exporter": "python",
   "pygments_lexer": "ipython3",
   "version": "3.12.3"
  }
 },
 "nbformat": 4,
 "nbformat_minor": 5
}

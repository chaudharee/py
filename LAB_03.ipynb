{
 "cells": [
  {
   "cell_type": "markdown",
   "id": "46a1ccab",
   "metadata": {},
   "source": [
    "# Function in Python programming"
   ]
  },
  {
   "cell_type": "markdown",
   "id": "668e8624",
   "metadata": {},
   "source": [
    "1. Write a Python function named `greet_user` that takes a user's name and prints. `Hello, <name>! Welcome to Python`. Call the function with a simple name."
   ]
  },
  {
   "cell_type": "code",
   "execution_count": 2,
   "id": "06e90067",
   "metadata": {},
   "outputs": [
    {
     "name": "stdout",
     "output_type": "stream",
     "text": [
      "Hello, Abhinaya! Welcome to Python.\n"
     ]
    }
   ],
   "source": [
    "#crate a fucntion \n",
    "def greet_user(name):\n",
    "    return f\"Hello, {name}! Welcome to Python.\"\n",
    "\n",
    "name = input(\"Enter your name: \")\n",
    "feed = greet_user(name)\n",
    "print(feed)"
   ]
  },
  {
   "cell_type": "markdown",
   "id": "9cf8c0da",
   "metadata": {},
   "source": [
    "2. Create a function `power(base, exponent = 2)` that returns the result of base raised to the power of exponent. Demonstrate it with and without exponent argument."
   ]
  },
  {
   "cell_type": "code",
   "execution_count": null,
   "id": "ce7e315f",
   "metadata": {},
   "outputs": [
    {
     "name": "stdout",
     "output_type": "stream",
     "text": [
      "81\n",
      "9\n"
     ]
    }
   ],
   "source": [
    "#default argument demonstration?              \n",
    "def power(base, exponent = 2):\n",
    "    return base ** exponent\n",
    "\n",
    "result_1 = power(3, 4)\n",
    "print(result_1)\n",
    "\n",
    "result_2 = power(3)\n",
    "print(result_2)"
   ]
  },
  {
   "cell_type": "markdown",
   "id": "6d0e72af",
   "metadata": {},
   "source": [
    "3. Write a function `book_info(title, author, year)` that prints book detail. Call the funtion using keyword arguments in different orders."
   ]
  },
  {
   "cell_type": "code",
   "execution_count": null,
   "id": "7c73447a",
   "metadata": {},
   "outputs": [
    {
     "name": "stdout",
     "output_type": "stream",
     "text": [
      "Title: Firfirey\n",
      "Author: Buddhi Sagar\n",
      "Year: 2016\n",
      "\n",
      "Title: China Harayeko Manchhe\n",
      "Author: Hari Bansha Acharya\n",
      "Year: 2013\n",
      "\n"
     ]
    }
   ],
   "source": [
    "#keyword argument demonstration??\n",
    "def book_info(title, author, year):\n",
    "    print(f\"Title: {title}\")\n",
    "    print(f\"Author: {author}\")\n",
    "    print(f\"Year: {year}\\n\")\n",
    "\n",
    "# Calling the function with keyword arguments in different orders\n",
    "book_info(title=\"Firfirey\", author=\"Buddhi Sagar\", year=2016)\n",
    "book_info(author=\"Hari Bansha Acharya\", year=2013, title=\"China Harayeko Manchhe\")"
   ]
  },
  {
   "cell_type": "markdown",
   "id": "04c04aa9",
   "metadata": {},
   "source": [
    "4. Create a function `sum_numbers(*args)` that accepts any number of numeric arguments and returns their sum. Test it with 2, 3, and 5."
   ]
  },
  {
   "cell_type": "code",
   "execution_count": null,
   "id": "15e2e2d9",
   "metadata": {},
   "outputs": [
    {
     "name": "stdout",
     "output_type": "stream",
     "text": [
      "10\n"
     ]
    }
   ],
   "source": [
    "#variable argument demonstration??\n",
    "def sum_numbers(*args):\n",
    "    return sum(args)\n",
    "\n",
    "print(sum_numbers(2, 3, 5))"
   ]
  },
  {
   "cell_type": "markdown",
   "id": "9999a875",
   "metadata": {},
   "source": [
    "5. Write a function `student(**kwargs)` that prints the key-value pairs passed(e.g. name, age. grade). Call it at least three named arguments."
   ]
  },
  {
   "cell_type": "code",
   "execution_count": 10,
   "id": "2c54dc36",
   "metadata": {},
   "outputs": [
    {
     "name": "stdout",
     "output_type": "stream",
     "text": [
      "- Name: Manish Chaudhary\n",
      "- Age: 21\n",
      "- Grade: Masters\n",
      "- Name: Mausham Sigdel\n",
      "- Age: 20\n",
      "- Grade: +2\n",
      "- Name: Manish Bhusal\n",
      "- Age: 19\n",
      "- Grade: Bachelors\n"
     ]
    }
   ],
   "source": [
    "def student(**kwargs):\n",
    "    for key, value in kwargs.items():\n",
    "        print(f\"- {key}: {value}\")\n",
    "\n",
    "student(Name=\"Manish Chaudhary\", Age=21, Grade=\"Masters\")\n",
    "student(Name=\"Mausham Sigdel\", Age=20, Grade=\"+2\")\n",
    "student(Name=\"Manish Bhusal\", Age=19, Grade=\"Bachelors\")"
   ]
  },
  {
   "cell_type": "markdown",
   "id": "51a74132",
   "metadata": {},
   "source": [
    "6. Write a lambda function to compute the square of a number. Use it to compute the square of 5 and 12."
   ]
  },
  {
   "cell_type": "code",
   "execution_count": 14,
   "id": "ac309624",
   "metadata": {},
   "outputs": [
    {
     "name": "stdout",
     "output_type": "stream",
     "text": [
      "25\n",
      "144\n"
     ]
    }
   ],
   "source": [
    "f = lambda x: x*x\n",
    "print(f(5))\n",
    "print(f(12))"
   ]
  },
  {
   "cell_type": "markdown",
   "id": "9d5642c1",
   "metadata": {},
   "source": [
    "7. Given a list of numbers `[1, 2, 3, 4, 5]`, use `map()` and a `lambda` function to return a new list with each number doubled."
   ]
  },
  {
   "cell_type": "code",
   "execution_count": 16,
   "id": "0f953e74",
   "metadata": {},
   "outputs": [
    {
     "name": "stdout",
     "output_type": "stream",
     "text": [
      "[2, 4, 6, 8, 10]\n"
     ]
    }
   ],
   "source": [
    "numbers = [1, 2, 3, 4, 5]\n",
    "doubled = map(lambda x: x*2, numbers)\n",
    "print(list(doubled))"
   ]
  },
  {
   "cell_type": "markdown",
   "id": "91d75aa6",
   "metadata": {},
   "source": [
    "8. Given a list `[10, 15, 20, 25, 30]`, use `filter()` and a lambda function to extract numbers divisible by 10."
   ]
  },
  {
   "cell_type": "code",
   "execution_count": 17,
   "id": "5ca29705",
   "metadata": {},
   "outputs": [
    {
     "name": "stdout",
     "output_type": "stream",
     "text": [
      "[10, 20, 30]\n"
     ]
    }
   ],
   "source": [
    "numbers = [10, 15, 20, 25, 30]\n",
    "divisible_by_ten = filter(lambda x: x % 10 == 0, numbers)\n",
    "print(list(divisible_by_ten))"
   ]
  },
  {
   "cell_type": "markdown",
   "id": "8d31f3bb",
   "metadata": {},
   "source": [
    "9. Given a list of temperatures in Celsius `36.5, 37.0, 39.2, 35.6, 38.7`. Convert them to Fahrenheit using `map()`. Filter out those above 100°F using `filter()`."
   ]
  },
  {
   "cell_type": "code",
   "execution_count": 24,
   "id": "b66fa658",
   "metadata": {},
   "outputs": [
    {
     "name": "stdout",
     "output_type": "stream",
     "text": [
      "[97.7, 98.60000000000001, 102.56, 96.08, 101.66000000000001]\n",
      "[102.56, 101.66000000000001]\n"
     ]
    }
   ],
   "source": [
    "in_celcius = [36.5, 37.0, 39.2, 35.6, 38.7]\n",
    "in_farhenheit = map(lambda temp: (9 / 5) * temp + 32, in_celcius)\n",
    "fahrenheit_list = list(in_farhenheit)\n",
    "print(fahrenheit_list)\n",
    "\n",
    "above_hundred = filter(lambda x: x > 100, fahrenheit_list)\n",
    "print(list(above_hundred))"
   ]
  },
  {
   "cell_type": "markdown",
   "id": "e52189a3",
   "metadata": {},
   "source": [
    "# **Mini Project:**"
   ]
  },
  {
   "cell_type": "markdown",
   "id": "9989a5cc",
   "metadata": {},
   "source": [
    "## Simple To-Do Manager Using Function Programming"
   ]
  },
  {
   "cell_type": "markdown",
   "id": "645f6b92",
   "metadata": {},
   "source": [
    "___"
   ]
  },
  {
   "cell_type": "markdown",
   "id": "297f020c",
   "metadata": {},
   "source": [
    "**Objective**: Manage a list of to-do tasks using functions, lambda, filter, and map. <br>\n",
    "__Requirement__:\n",
    "- Allow adding tasks using a function `add_task(task_list, task_name)`.\n",
    "- Each task is a dictionary: {\"name\": str, \"completed\": bool}.\n",
    "- Use `lambda` and `filter()` to list only incomplete tasks.\n",
    "- Use `map()` to mark all tasks as completed.\n",
    "- Included a `search_tasks(task_list, keyword)` function using `filter()` and `lambda`."
   ]
  },
  {
   "cell_type": "markdown",
   "id": "94ac84fd",
   "metadata": {},
   "source": [
    "__Sample Workflow:__<br>\n",
    "tasks = [] <br>\n",
    "tasks = add_task(tasks, \"Buy groceries\")<br>\n",
    "tasks = add_task(tasks, \"Finish assignment\")<br>\n",
    "tasks = add_task(tasks, \"Call friend\")\n",
    "<br>\n",
    "<br>\n",
    "#List incomplete tasks<br>\n",
    "print(\"Pending Tasks\", list_pending(tasks))<br><br>\n",
    "#Mark all tasks as complete<br>\n",
    "tasks = complete_sll(tasks)<br><br>\n",
    "#Search tasks with keyword \"call\"<br>\n",
    "print(\"Search Result\", search_tasks(tasks, \"call\"))"
   ]
  },
  {
   "cell_type": "code",
   "execution_count": 2,
   "id": "b1dbdda8",
   "metadata": {},
   "outputs": [
    {
     "name": "stdout",
     "output_type": "stream",
     "text": [
      "Pending Tasks: [{'name': 'Buy goceries', 'completed': False}, {'name': 'Finish assignment', 'completed': False}, {'name': 'Call friend', 'completed': False}]\n",
      "Search Result: [{'name': 'Call friend', 'completed': True}]\n"
     ]
    }
   ],
   "source": [
    "#this is the function to add the task\n",
    "def add_task(task_list, task_name):\n",
    "    task = {\"name\": task_name, \"completed\": False}\n",
    "    return task_list + [task]\n",
    "\n",
    "#function to list only incomplete tasks\n",
    "def list_pending(task_list):\n",
    "    return(list(filter(lambda task: not task[\"completed\"], task_list)))\n",
    "\n",
    "#function to mark all tasks as complete using map \n",
    "def complete_all(task_list):\n",
    "    return list(map(lambda task: {**task, \"completed\": True}, task_list))\n",
    "\n",
    "#function to search tasks by keywords using filter and lambda\n",
    "def search_tasks(task_list, keyword):\n",
    "    return list(filter(lambda task: keyword.lower() in task[\"name\"].lower(), task_list))\n",
    "\n",
    "#sample workflow\n",
    "tasks = []\n",
    "tasks = add_task(tasks, \"Buy goceries\")\n",
    "tasks = add_task(tasks, \"Finish assignment\")\n",
    "tasks = add_task(tasks, \"Call friend\")\n",
    "\n",
    "#list incomplete tasks\n",
    "print(\"Pending Tasks:\", list_pending(tasks))\n",
    "\n",
    "#Mark all tasks as complete\n",
    "tasks = complete_all(tasks)\n",
    "\n",
    "#search tasks with keyword \"call\"\n",
    "print(\"Search Result:\", search_tasks(tasks, \"call\"))"
   ]
  }
 ],
 "metadata": {
  "kernelspec": {
   "display_name": "Myvenv",
   "language": "python",
   "name": "python3"
  },
  "language_info": {
   "codemirror_mode": {
    "name": "ipython",
    "version": 3
   },
   "file_extension": ".py",
   "mimetype": "text/x-python",
   "name": "python",
   "nbconvert_exporter": "python",
   "pygments_lexer": "ipython3",
   "version": "3.12.3"
  }
 },
 "nbformat": 4,
 "nbformat_minor": 5
}
